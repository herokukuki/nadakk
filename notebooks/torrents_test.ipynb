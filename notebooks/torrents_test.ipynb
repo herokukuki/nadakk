{
 "cells": [
  {
   "cell_type": "code",
   "execution_count": 1,
   "metadata": {
    "collapsed": true
   },
   "outputs": [],
   "source": [
    "import sys\n",
    "sys.path.append('../src')\n",
    "\n",
    "from my_aws import S3\n",
    "\n",
    "import pandas as pd"
   ]
  },
  {
   "cell_type": "code",
   "execution_count": 2,
   "metadata": {},
   "outputs": [],
   "source": [
    "omdb_s3 = S3()\n",
    "\n",
    "key = 'OMDB_API.csv'\n",
    "bucket = 'movie-torrents'\n",
    "omdb_data = omdb_s3.get_data(key, bucket)"
   ]
  },
  {
   "cell_type": "code",
   "execution_count": 3,
   "metadata": {},
   "outputs": [],
   "source": [
    "omdb_data['Year'] = pd.DatetimeIndex(omdb_data['Released']).year\n",
    "omdb_data = omdb_data.dropna(subset=['Year'])\n",
    "omdb_data['Year'] = omdb_data['Year'].apply(lambda x: str(int(x)))"
   ]
  },
  {
   "cell_type": "code",
   "execution_count": 4,
   "metadata": {
    "collapsed": true
   },
   "outputs": [],
   "source": [
    "# creat tuple for torrent search\n",
    "movie_tup = [(imdb_id, title, year) for imdb_id, title, year in\n",
    "             zip(omdb_data['imdbID'], omdb_data['Title'], omdb_data['Year'])]"
   ]
  },
  {
   "cell_type": "code",
   "execution_count": 5,
   "metadata": {
    "collapsed": true
   },
   "outputs": [],
   "source": [
    "def kat_crawl(imdb_num):\n",
    "    address = 'https://kat.cr/usearch/category:movies%20imdb:{0}/'.format(imdb_num[2:])\n",
    "    web_req = requests.get(address)\n",
    "    if web_req.status_code != 200:\n",
    "        return 'Fail'\n",
    "    \n",
    "    soup = BeautifulSoup(web_req.text, 'lxml')\n",
    "    html_title = soup.div.h2.span\n",
    "\n",
    "    if not html_title:\n",
    "        return 'Fail'\n",
    "    \n",
    "    title_strip = re.sub(r'(<span>  results )([0-9*]\\D[0-9*]*)( from )', '', str(html_title))\n",
    "    torrent_count = re.sub(r'(</span>)', '', title_strip)\n",
    "\n",
    "    return torrent_count"
   ]
  },
  {
   "cell_type": "code",
   "execution_count": 6,
   "metadata": {
    "collapsed": true
   },
   "outputs": [],
   "source": [
    "def pirate_crawl(imdb_num):\n",
    "    address = 'https://thepiratebay.org/search/{0}/'.format(imdb_num)\n",
    "    web_req = requests.get(address)\n",
    "    if web_req.status_code != 200:\n",
    "        return 'Fail'\n",
    "    \n",
    "    soup = BeautifulSoup(web_req.text, 'lxml')\n",
    "    html_title = soup.body.h2\n",
    "    \n",
    "    if not html_title:\n",
    "        return 'Fail'\n",
    "\n",
    "    title_strip = re.search(r'(?<=approx )([^ found>]+)', str(html_title))\n",
    "    torrent_count = title_strip.group(0)\n",
    "        \n",
    "    return torrent_count"
   ]
  },
  {
   "cell_type": "code",
   "execution_count": 7,
   "metadata": {
    "collapsed": true
   },
   "outputs": [],
   "source": [
    "def torrentz_crawl(title, year):\n",
    "    address = 'http://www.torrentz.eu/search?f={0}+{1}'.format(title, year)\n",
    "    web_req = requests.get(address)\n",
    "    if web_req.status_code != 200:\n",
    "        return 'Fail'\n",
    "    \n",
    "    soup = BeautifulSoup(web_req.text, 'lxml')\n",
    "    html_title = soup.h2\n",
    "    \n",
    "    if not html_title:\n",
    "        return 'Fail'\n",
    "\n",
    "    title_strip = re.search(r'(?<=none\">)([^ torrents>]+)', str(html_title))\n",
    "    torrent_count = title_strip.group(0)\n",
    "        \n",
    "    return torrent_count"
   ]
  },
  {
   "cell_type": "code",
   "execution_count": 8,
   "metadata": {
    "collapsed": true
   },
   "outputs": [],
   "source": [
    "def torrentz_ver_crawl(title, year):\n",
    "    address = 'http://www.torrentz.eu/verified?f={0}+{1}'.format(title, year)\n",
    "    web_req = requests.get(address)\n",
    "    if web_req.status_code != 200:\n",
    "        return 'Fail'\n",
    "    \n",
    "    soup = BeautifulSoup(web_req.text, 'lxml')\n",
    "    html_title = soup.h2\n",
    "    \n",
    "    if not html_title:\n",
    "        return 'Fail'\n",
    "\n",
    "    title_strip = re.search(r'(?<=none\">)([^ torrents>]+)', str(html_title))\n",
    "    torrent_count = title_strip.group(0)\n",
    "        \n",
    "    return torrent_count"
   ]
  },
  {
   "cell_type": "code",
   "execution_count": 9,
   "metadata": {
    "collapsed": true
   },
   "outputs": [],
   "source": [
    "def poll_torrent_counts(omdb_data):\n",
    "    for imdb_id, title, year in movie_tup:\n",
    "        time.sleep(1)\n",
    "\n",
    "        omdb_data.loc[omdb_data['imdbID'] == imdb_id, 'Kat_Count'] = kat_crawl(imdb_id)\n",
    "        omdb_data.loc[omdb_data['imdbID'] == imdb_id, 'Pirate_Count'] = pirate_crawl(imdb_id)\n",
    "        omdb_data.loc[omdb_data['imdbID'] == imdb_id, 'Torrentz_Count'] = torrentz_crawl(title, year)\n",
    "        omdb_data.loc[omdb_data['imdbID'] == imdb_id, 'Torrentz_Ver_Count'] = torrentz_ver_crawl(title, year)\n",
    "\n",
    "    omdb_s3.put_data(omdb_data, key, bucket)"
   ]
  },
  {
   "cell_type": "code",
   "execution_count": null,
   "metadata": {
    "collapsed": true
   },
   "outputs": [],
   "source": []
  }
 ],
 "metadata": {
  "kernelspec": {
   "display_name": "Python [conda root]",
   "language": "python",
   "name": "conda-root-py"
  },
  "language_info": {
   "codemirror_mode": {
    "name": "ipython",
    "version": 3
   },
   "file_extension": ".py",
   "mimetype": "text/x-python",
   "name": "python",
   "nbconvert_exporter": "python",
   "pygments_lexer": "ipython3",
   "version": "3.6.2"
  }
 },
 "nbformat": 4,
 "nbformat_minor": 2
}
