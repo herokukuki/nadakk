{
 "cells": [
  {
   "cell_type": "code",
   "execution_count": 1,
   "metadata": {},
   "outputs": [],
   "source": [
    "import sys\n",
    "from multiprocessing import Pool, cpu_count\n",
    "import pandas as pd\n",
    "import numpy as np\n",
    "from fuzzywuzzy import process\n",
    "\n",
    "sys.path.append('../src')\n",
    "\n",
    "from my_aws import S3"
   ]
  },
  {
   "cell_type": "code",
   "execution_count": 2,
   "metadata": {},
   "outputs": [],
   "source": [
    "s3_connect = S3()\n",
    "\n",
    "key_tor = 'OMDB_Torrents.csv'\n",
    "bucket = 'movie-torrents'\n",
    "df_tor = s3_connect.get_data(key_tor, bucket)\n",
    "\n",
    "key_num = 'TheNumbers_budgets.csv'\n",
    "bucket = 'movie-torrents'\n",
    "df_num = s3_connect.get_data(key_num, bucket)"
   ]
  },
  {
   "cell_type": "code",
   "execution_count": 3,
   "metadata": {},
   "outputs": [],
   "source": [
    "numbers_titles = df_num['title'].tolist()\n",
    "torrent_titles = df_tor['Title'].tolist()\n",
    "\n",
    "def fuzzy_match(search_title):\n",
    "    match_title, match_percent = process.extractOne(search_title, numbers_titles)\n",
    "    return {'RowTitle': search_title, 'FuzzTitle': match_title, 'FuzzPercent': match_percent}"
   ]
  },
  {
   "cell_type": "markdown",
   "metadata": {},
   "source": [
    "# Resource heavy - long running"
   ]
  },
  {
   "cell_type": "code",
   "execution_count": 4,
   "metadata": {},
   "outputs": [
    {
     "name": "stdout",
     "output_type": "stream",
     "text": [
      "CPU times: user 315 ms, sys: 70.7 ms, total: 385 ms\n",
      "Wall time: 7min 55s\n"
     ]
    }
   ],
   "source": [
    "worker_pool = Pool(cpu_count())\n",
    "\n",
    "%time fuzz_results = worker_pool.map(fuzzy_match, torrent_titles)\n",
    "\n",
    "worker_pool.close() \n",
    "worker_pool.join() "
   ]
  },
  {
   "cell_type": "code",
   "execution_count": 5,
   "metadata": {},
   "outputs": [],
   "source": [
    "# Put results into a dataframe and rename columns\n",
    "df_fuzz = pd.DataFrame(fuzz_results)\n",
    "df_fuzz = df_fuzz[['RowTitle','FuzzTitle','FuzzPercent']]\n",
    "df_fuzz.columns = ['Title', 'FuzzTitle', 'FuzzPercent']\n",
    "\n",
    "# Append to torrent dataframe\n",
    "df = pd.merge(df_tor, df_fuzz, how='inner', on='Title')\n",
    "df.drop_duplicates(subset='Title', inplace=True)\n",
    "\n",
    "# Drop rows where match was below 95%\n",
    "df = df[df['FuzzPercent'] >= 95]"
   ]
  },
  {
   "cell_type": "code",
   "execution_count": 6,
   "metadata": {},
   "outputs": [],
   "source": [
    "# remove where no torrent counts were received from any source\n",
    "df['CheckTup'] = list(zip(df['Kat_Count'].tolist(), df['Pirate_Count'].tolist(), df['Extra_Count'].tolist(), \n",
    "                df['Torrentz_Count'].tolist(), df['Torrentz_Ver_Count'].tolist(), df['Zoogle_Ver_Count'].tolist()))\n",
    "df = df[df['CheckTup'] != ('Fail','Fail','Fail','Fail','Fail','Fail')].reset_index(drop=True)\n",
    "\n",
    "del df['CheckTup']"
   ]
  },
  {
   "cell_type": "code",
   "execution_count": 7,
   "metadata": {},
   "outputs": [],
   "source": [
    "# replace Fail, None, N and NaN with 0 - remove >, and <\n",
    "int_cols = ['Metascore', 'Runtime', 'imdbRating','imdbVotes', 'Kat_Count', 'Pirate_Count', \n",
    "            'Extra_Count', 'Torrentz_Count', 'Torrentz_Ver_Count', 'Zoogle_Ver_Count']\n",
    "\n",
    "for col in int_cols:\n",
    "    df[col] = df[col].replace(['Fail', 'None', 'N', 'NaN'], '0')\n",
    "    df[col] = df[col].apply(lambda x: str(x).replace('>','').replace('<','').replace(',',''))\n",
    "    df[col] = df[col].replace(np.nan, 0)\n",
    "    df[col] = df[col].fillna(value=0)\n",
    "    df[col] = pd.to_numeric(df[col], errors='coerce', downcast='integer')\n",
    "    df[col] = df[col].fillna(value=0)\n",
    "    \n",
    "# fill in remaining NaN's with blanks\n",
    "df.fillna(value='', inplace=True)"
   ]
  },
  {
   "cell_type": "code",
   "execution_count": 8,
   "metadata": {},
   "outputs": [],
   "source": [
    "df_num.columns = ['FuzzTitle', 'ReleaseDate', 'ProductionBudget', 'DomesticBudget', 'WorldGross']"
   ]
  },
  {
   "cell_type": "code",
   "execution_count": 9,
   "metadata": {},
   "outputs": [
    {
     "name": "stdout",
     "output_type": "stream",
     "text": [
      "3899\n"
     ]
    }
   ],
   "source": [
    "# merge data frames\n",
    "data_df = pd.merge(df, df_num, how='left', on='FuzzTitle')\n",
    "data_df = data_df.drop_duplicates(subset='imdbID')\n",
    "print(len(data_df))"
   ]
  },
  {
   "cell_type": "code",
   "execution_count": 10,
   "metadata": {},
   "outputs": [],
   "source": [
    "data_df['Released'] = pd.to_datetime(data_df['Released'])\n",
    "data_df['ReleaseDate'] = pd.to_datetime(data_df['ReleaseDate'])\n",
    "data_df.loc[data_df['Released'].isnull(), 'Released'] = data_df['ReleaseDate']\n",
    "\n",
    "del data_df['ReleaseDate']\n",
    "del data_df['FuzzTitle']\n",
    "del data_df['FuzzPercent']"
   ]
  },
  {
   "cell_type": "code",
   "execution_count": 11,
   "metadata": {},
   "outputs": [],
   "source": [
    "# sum torrent counts\n",
    "data_df['Total_Torrents'] = data_df[['Kat_Count','Pirate_Count','Extra_Count','Torrentz_Count',\n",
    "                                     'Torrentz_Ver_Count','Zoogle_Ver_Count']].sum(axis=1)"
   ]
  },
  {
   "cell_type": "code",
   "execution_count": 12,
   "metadata": {},
   "outputs": [],
   "source": [
    "data_df.reset_index(drop=True, inplace=True)"
   ]
  },
  {
   "cell_type": "code",
   "execution_count": 13,
   "metadata": {},
   "outputs": [
    {
     "name": "stdout",
     "output_type": "stream",
     "text": [
      "<class 'pandas.core.frame.DataFrame'>\n",
      "RangeIndex: 3899 entries, 0 to 3898\n",
      "Data columns (total 29 columns):\n",
      "Actors                3899 non-null object\n",
      "Awards                3899 non-null object\n",
      "BoxOffice             3899 non-null object\n",
      "Country               3899 non-null object\n",
      "DVD                   3899 non-null object\n",
      "Director              3899 non-null object\n",
      "Genre                 3899 non-null object\n",
      "Language              3899 non-null object\n",
      "Metascore             3899 non-null float64\n",
      "Production            3899 non-null object\n",
      "Rated                 3899 non-null object\n",
      "Released              3899 non-null datetime64[ns]\n",
      "Runtime               3899 non-null float64\n",
      "Title                 3899 non-null object\n",
      "Type                  3899 non-null object\n",
      "Writer                3899 non-null object\n",
      "imdbID                3899 non-null object\n",
      "imdbRating            3899 non-null float64\n",
      "imdbVotes             3899 non-null float64\n",
      "Kat_Count             3899 non-null int16\n",
      "Pirate_Count          3899 non-null int16\n",
      "Extra_Count           3899 non-null int16\n",
      "Torrentz_Count        3899 non-null int32\n",
      "Torrentz_Ver_Count    3899 non-null int16\n",
      "Zoogle_Ver_Count      3899 non-null float64\n",
      "ProductionBudget      3899 non-null int64\n",
      "DomesticBudget        3899 non-null int64\n",
      "WorldGross            3899 non-null int64\n",
      "Total_Torrents        3899 non-null float64\n",
      "dtypes: datetime64[ns](1), float64(6), int16(4), int32(1), int64(3), object(14)\n",
      "memory usage: 776.8+ KB\n"
     ]
    }
   ],
   "source": [
    "data_df.info()"
   ]
  },
  {
   "cell_type": "code",
   "execution_count": null,
   "metadata": {},
   "outputs": [],
   "source": []
  }
 ],
 "metadata": {
  "kernelspec": {
   "display_name": "Python [conda root]",
   "language": "python",
   "name": "conda-root-py"
  },
  "language_info": {
   "codemirror_mode": {
    "name": "ipython",
    "version": 3
   },
   "file_extension": ".py",
   "mimetype": "text/x-python",
   "name": "python",
   "nbconvert_exporter": "python",
   "pygments_lexer": "ipython3",
   "version": "3.6.2"
  }
 },
 "nbformat": 4,
 "nbformat_minor": 2
}
