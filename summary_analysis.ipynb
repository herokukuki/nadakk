{
 "cells": [
  {
   "cell_type": "code",
   "execution_count": 1,
   "metadata": {},
   "outputs": [],
   "source": [
    "import os\n",
    "import pandas as pd\n",
    "import numpy as np\n",
    "from s3fs.core import S3FileSystem\n",
    "\n",
    "from scripts import my_plotly as mp"
   ]
  },
  {
   "cell_type": "code",
   "execution_count": 2,
   "metadata": {
    "collapsed": true
   },
   "outputs": [],
   "source": [
    "# DELETE - FOR TROUBLESHOOTING ONLY\n",
    "# import plotly\n",
    "# import plotly.plotly as py\n",
    "# import plotly.graph_objs as go"
   ]
  },
  {
   "cell_type": "code",
   "execution_count": 3,
   "metadata": {
    "collapsed": true
   },
   "outputs": [],
   "source": [
    "# Validate plotly credentials\n",
    "mp.validate()"
   ]
  },
  {
   "cell_type": "code",
   "execution_count": 4,
   "metadata": {},
   "outputs": [],
   "source": [
    "# aws keys stored in ini file in same path\n",
    "os.environ['AWS_CONFIG_FILE'] = 'aws_config.ini'\n",
    "\n",
    "s3 = S3FileSystem(anon=False)\n",
    "key = 'data.csv'\n",
    "bucket = 'luther-02'\n",
    "\n",
    "df = pd.read_csv(s3.open('{}/{}'.format(bucket, key),mode='rb'))\n",
    "\n",
    "# update dates to datetime objects\n",
    "df['Released'] = pd.to_datetime(df['Released'])\n",
    "df['Year'] = pd.DatetimeIndex(df['Released']).year\n",
    "df['Year_Int'] = pd.to_numeric(df['Year'])\n",
    "df['Month'] = pd.DatetimeIndex(df['Released']).month\n",
    "\n",
    "# year extremities\n",
    "yr_start = df['Year'].min(axis=0)\n",
    "yr_stop = df['Year'].max(axis=0)"
   ]
  },
  {
   "cell_type": "code",
   "execution_count": 5,
   "metadata": {},
   "outputs": [
    {
     "data": {
      "text/html": [
       "<iframe id=\"igraph\" scrolling=\"no\" style=\"border:none;\" seamless=\"seamless\" src=\"https://plot.ly/~bbiggs/450.embed\" height=\"525px\" width=\"100%\"></iframe>"
      ],
      "text/plain": [
       "<plotly.tools.PlotlyDisplay object>"
      ]
     },
     "execution_count": 5,
     "metadata": {},
     "output_type": "execute_result"
    }
   ],
   "source": [
    "title = 'Count of Torrent Titles by Year Released'\n",
    "_filename ='luther_films_annually'\n",
    "x_title = 'Release Year'\n",
    "y_title = 'Number of Titles'\n",
    "\n",
    "mp.bar_plot_data(df, 'Year', 'blue', title, x_title, y_title, False, _filename)"
   ]
  },
  {
   "cell_type": "markdown",
   "metadata": {
    "collapsed": true
   },
   "source": [
    "# Trim Dataset by Years of Interest/Relevance\n",
    "\n",
    "Due to the low number of titles for the years below 1995, these torrents were removed from the dataset. Also, since the current year (2016) is only partially completed, films released in 2016 were removed from the dataset as well."
   ]
  },
  {
   "cell_type": "code",
   "execution_count": 6,
   "metadata": {
    "collapsed": true
   },
   "outputs": [],
   "source": [
    "def df_year_limit(start, stop, df):\n",
    "    mask = (df['Year'] >= start) & (df['Year'] <= stop)\n",
    "    df = df.loc[mask]\n",
    "    return df"
   ]
  },
  {
   "cell_type": "code",
   "execution_count": 7,
   "metadata": {},
   "outputs": [
    {
     "name": "stdout",
     "output_type": "stream",
     "text": [
      "267 entries lost (16.05%) due to date slice between 1995 and 2015\n"
     ]
    }
   ],
   "source": [
    "# get count of records before trimming by year cutoff\n",
    "yr_before = len(df)\n",
    "\n",
    "# start, stop thresholds\n",
    "yr_start, yr_stop = (1995, 2015)\n",
    "\n",
    "# trim by year cutoff\n",
    "df = df_year_limit(yr_start, yr_stop, df)\n",
    "yr_after = len(df)\n",
    "\n",
    "\n",
    "print('{0} entries lost ({1}%) due to date slice between {2} and {3}'.format(yr_before-yr_after, \n",
    "                                round((yr_before - yr_after)/yr_before *100, 2), yr_start, yr_stop))"
   ]
  },
  {
   "cell_type": "code",
   "execution_count": 8,
   "metadata": {},
   "outputs": [
    {
     "data": {
      "text/html": [
       "<iframe id=\"igraph\" scrolling=\"no\" style=\"border:none;\" seamless=\"seamless\" src=\"https://plot.ly/~bbiggs/452.embed\" height=\"525px\" width=\"100%\"></iframe>"
      ],
      "text/plain": [
       "<plotly.tools.PlotlyDisplay object>"
      ]
     },
     "execution_count": 8,
     "metadata": {},
     "output_type": "execute_result"
    }
   ],
   "source": [
    "title='Count of Torrent Titles by Release Year ({0}-{1})'.format(yr_start, yr_stop)\n",
    "_filename='luther_films_annually({0}-{1})'.format(yr_start, yr_stop)\n",
    "x_title = 'Release Year'\n",
    "y_title = 'Number of Titles'\n",
    "\n",
    "mp.bar_plot_data(df, 'Year', 'blue', title, x_title, y_title, False, _filename)"
   ]
  },
  {
   "cell_type": "markdown",
   "metadata": {},
   "source": [
    "# Genre Classifications"
   ]
  },
  {
   "cell_type": "code",
   "execution_count": 9,
   "metadata": {
    "collapsed": true
   },
   "outputs": [],
   "source": [
    "# split genre strings into a numpy array\n",
    "def split_to_array(_series):\n",
    "    split_array = np.array(_series.strip().replace(',','').split(' '))\n",
    "    return pd.Series(split_array)"
   ]
  },
  {
   "cell_type": "code",
   "execution_count": 10,
   "metadata": {},
   "outputs": [],
   "source": [
    "# turn numpy array into count of genre occurances\n",
    "genres = df['Genre'].apply(split_to_array)\n",
    "genres = pd.Series(genres.values.ravel()).dropna()\n",
    "genres = genres.value_counts().sort_values(ascending=False)\n",
    "\n",
    "# convert series to dataframe for plotting\n",
    "genre_ser = genres.reset_index()\n",
    "genre_ser.columns = ['Genre', 'Count']"
   ]
  },
  {
   "cell_type": "code",
   "execution_count": 11,
   "metadata": {},
   "outputs": [
    {
     "data": {
      "text/html": [
       "<iframe id=\"igraph\" scrolling=\"no\" style=\"border:none;\" seamless=\"seamless\" src=\"https://plot.ly/~bbiggs/466.embed\" height=\"525px\" width=\"100%\"></iframe>"
      ],
      "text/plain": [
       "<plotly.tools.PlotlyDisplay object>"
      ]
     },
     "execution_count": 11,
     "metadata": {},
     "output_type": "execute_result"
    }
   ],
   "source": [
    "title='Count of Genre Classifications ({0}-{1})'.format(yr_start, yr_stop)\n",
    "_filename = 'luther_genre_quantity({0}-{1})'.format(yr_start, yr_stop)\n",
    "x_title = 'Genre'\n",
    "y_title = 'Number of Classifications'\n",
    "\n",
    "mp.bar_plot_data(genre_ser, 'Genre', 'yellow', title, x_title, y_title, True, _filename)"
   ]
  },
  {
   "cell_type": "markdown",
   "metadata": {},
   "source": [
    "# Most Dominant Genre out of Genres Given per Film\n",
    "Given that each film is classified under multiple genres (i.e. - 'Action, Adventure, Thriller'), the most dominant genre is a single genre that occurs the most in the total data set from the film's genre list. In the example 'Action, Adventure, Thriller' - out of that list, 'Action' occurs the most and is therefore used as that films 'dominant genre'."
   ]
  },
  {
   "cell_type": "code",
   "execution_count": 12,
   "metadata": {
    "collapsed": true
   },
   "outputs": [],
   "source": [
    "def convert_frequency(ser, genres=genres):\n",
    "    split_array = np.array(ser.strip().replace(',','').split(' '))\n",
    "    genre = genres.loc[split_array].argmax()\n",
    "    return genre"
   ]
  },
  {
   "cell_type": "code",
   "execution_count": 13,
   "metadata": {
    "collapsed": true
   },
   "outputs": [],
   "source": [
    "# add new column to dataframe classifying genre list as single genre of significance\n",
    "df['Genre_Single'] = df['Genre'].apply(convert_frequency)\n",
    "\n",
    "# look at number of single genre counts after extraction\n",
    "df_count = df['Genre_Single'].value_counts().reset_index()\n",
    "df_count.columns = ['Genre_Single', 'Count']"
   ]
  },
  {
   "cell_type": "code",
   "execution_count": 14,
   "metadata": {},
   "outputs": [
    {
     "data": {
      "text/html": [
       "<iframe id=\"igraph\" scrolling=\"no\" style=\"border:none;\" seamless=\"seamless\" src=\"https://plot.ly/~bbiggs/233.embed\" height=\"525px\" width=\"100%\"></iframe>"
      ],
      "text/plain": [
       "<plotly.tools.PlotlyDisplay object>"
      ]
     },
     "execution_count": 14,
     "metadata": {},
     "output_type": "execute_result"
    }
   ],
   "source": [
    "title = 'Quantity of Dominant Genre Classifications ({0}-{1})'.format(yr_start, yr_stop)\n",
    "_filename = 'luther_dominant_genres({0}-{1})'.format(yr_start, yr_stop)\n",
    "x_title = 'Genre'\n",
    "y_title = 'Number of Classifications'\n",
    "\n",
    "mp.bar_plot_data(df_count, 'Genre_Single', 'orange', title, x_title, y_title, True, _filename)"
   ]
  },
  {
   "cell_type": "code",
   "execution_count": 15,
   "metadata": {},
   "outputs": [],
   "source": [
    "_title = 'Genres Annually ({0}-{1})'.format(yr_start, yr_stop)\n",
    "_x_title = 'Year'\n",
    "_y_title = 'Number of Films'\n",
    "_filename = 'luther_stackedGenres_years({0}-{1})'.format(yr_start, yr_stop)\n",
    "\n",
    "#mp.get_stackedBar(df, 'Genre_Single', 'Year', _title, _x_title, _y_title, _filename='stackedBar')"
   ]
  },
  {
   "cell_type": "code",
   "execution_count": null,
   "metadata": {
    "collapsed": true
   },
   "outputs": [],
   "source": []
  }
 ],
 "metadata": {
  "anaconda-cloud": {},
  "kernelspec": {
   "display_name": "Python [default]",
   "language": "python",
   "name": "python3"
  },
  "language_info": {
   "codemirror_mode": {
    "name": "ipython",
    "version": 3
   },
   "file_extension": ".py",
   "mimetype": "text/x-python",
   "name": "python",
   "nbconvert_exporter": "python",
   "pygments_lexer": "ipython3",
   "version": "3.6.2"
  }
 },
 "nbformat": 4,
 "nbformat_minor": 1
}
