{
 "cells": [
  {
   "cell_type": "code",
   "execution_count": 1,
   "metadata": {
    "collapsed": true
   },
   "outputs": [],
   "source": [
    "import os\n",
    "import pandas as pd\n",
    "import numpy as np\n",
    "\n",
    "import itertools\n",
    "import operator\n",
    "import string\n",
    "from collections import defaultdict, Counter\n",
    "from s3fs.core import S3FileSystem\n",
    "\n",
    "import plotly\n",
    "import plotly.plotly as py\n",
    "import plotly.graph_objs as go\n",
    "from plotly.tools import FigureFactory as FF"
   ]
  },
  {
   "cell_type": "markdown",
   "metadata": {},
   "source": [
    "# Plotly Setup"
   ]
  },
  {
   "cell_type": "code",
   "execution_count": 2,
   "metadata": {
    "collapsed": true
   },
   "outputs": [],
   "source": [
    "# plotly username and password\n",
    "with open('../_credentials/plotly.txt', 'r') as infile:\n",
    "    user, pw = infile.read().strip().split(', ')\n",
    "    \n",
    "plotly.tools.set_credentials_file(username=user, api_key=pw)\n",
    "\n",
    "text_color = 'rgb(107, 107, 107)'\n",
    "\n",
    "colors_dict = {'grey':'rgb(189, 195, 199)', 'aqua':'rgb( 54, 215, 183)', 'navy':'rgb( 31,  58, 147)',\n",
    "            'purple':'rgb(142,  68, 173)', 'blue':'rgb( 25, 181, 254)', 'green':'rgb( 46, 204, 113)',\n",
    "            'yellow':'rgb(253, 231,  76)', 'orange':'rgb(250, 121,  33)', 'red':'rgb(242,  38,  19)'}\n",
    "\n",
    "colors_lst = [colors_dict['yellow'], colors_dict['orange'], colors_dict['red'], \n",
    "              colors_dict['green'], colors_dict['blue'], colors_dict['purple'], \n",
    "              colors_dict['navy'], colors_dict['aqua'], colors_dict['grey']]"
   ]
  },
  {
   "cell_type": "markdown",
   "metadata": {},
   "source": [
    "# Load Cleaned Data"
   ]
  },
  {
   "cell_type": "code",
   "execution_count": 3,
   "metadata": {},
   "outputs": [],
   "source": [
    "# aws keys stored in ini file in same path\n",
    "os.environ['AWS_CONFIG_FILE'] = 'aws_config.ini'\n",
    "\n",
    "s3 = S3FileSystem(anon=False)\n",
    "key = 'data.csv'\n",
    "bucket = 'luther-02'\n",
    "\n",
    "df = pd.read_csv(s3.open('{}/{}'.format(bucket, key),mode='rb'))\n",
    "\n",
    "# update dates to datetime objects\n",
    "df['Released'] = pd.to_datetime(df['Released'])\n",
    "df['Year'] = pd.DatetimeIndex(df['Released']).year\n",
    "df['Year_Int'] = pd.to_numeric(df['Year'])\n",
    "df['Month'] = pd.DatetimeIndex(df['Released']).month"
   ]
  },
  {
   "cell_type": "markdown",
   "metadata": {},
   "source": [
    "# Number of Films Released Annually"
   ]
  },
  {
   "cell_type": "code",
   "execution_count": 4,
   "metadata": {},
   "outputs": [],
   "source": [
    "# number of titles per year in dataset\n",
    "df_yr = df['Year'].value_counts().reset_index()\n",
    "df_yr.columns = ['Year','Count']\n",
    "\n",
    "yr_start = df['Year'].min(axis=0)\n",
    "yr_stop = df['Year'].max(axis=0)\n",
    "trace = go.Bar(x=df_yr['Year'], y=df_yr['Count'], marker=dict(color=colors_dict['red']))"
   ]
  },
  {
   "cell_type": "code",
   "execution_count": 5,
   "metadata": {},
   "outputs": [
    {
     "data": {
      "text/html": [
       "<iframe id=\"igraph\" scrolling=\"no\" style=\"border:none;\" seamless=\"seamless\" src=\"https://plot.ly/~bbiggs/801.embed\" height=\"525px\" width=\"100%\"></iframe>"
      ],
      "text/plain": [
       "<plotly.tools.PlotlyDisplay object>"
      ]
     },
     "execution_count": 5,
     "metadata": {},
     "output_type": "execute_result"
    }
   ],
   "source": [
    "data = [trace]\n",
    "layout = go.Layout(\n",
    "    title='Movies Released Annually ({0}-{1})'.format(yr_start, yr_stop),\n",
    "    xaxis=dict(\n",
    "        title='Release Year',\n",
    "        tickfont=dict(size=14, color=text_color)),\n",
    "    yaxis=dict(\n",
    "        title='Number of Movies',\n",
    "        titlefont=dict(size=16, color=text_color),\n",
    "        tickfont=dict(size=14, color=text_color)),\n",
    "    barmode='group',\n",
    "    bargap=0.15,\n",
    "    bargroupgap=0.1)\n",
    "\n",
    "fig = go.Figure(data=data, layout=layout)\n",
    "py.iplot(fig, filename='style-bar')"
   ]
  },
  {
   "cell_type": "markdown",
   "metadata": {},
   "source": [
    "# Trim Dataset by Years of Interest"
   ]
  },
  {
   "cell_type": "code",
   "execution_count": 6,
   "metadata": {
    "collapsed": true
   },
   "outputs": [],
   "source": [
    "def df_year_limit(start, stop, df):\n",
    "    mask = (df['Year'] >= start) & (df['Year'] <= stop)\n",
    "    df = df.loc[mask]\n",
    "    return df"
   ]
  },
  {
   "cell_type": "code",
   "execution_count": 7,
   "metadata": {},
   "outputs": [
    {
     "name": "stdout",
     "output_type": "stream",
     "text": [
      "370 entries lost (0.08%) due to date cutoff between 1998 and 2015\n"
     ]
    }
   ],
   "source": [
    "yr_start = 1998\n",
    "yr_stop = 2015\n",
    "\n",
    "len_before = len(df)\n",
    "df = df_year_limit(yr_start, yr_stop, df)\n",
    "len_after = len(df)\n",
    "\n",
    "print('{0} entries lost ({1}%) due to date cutoff between {2} and {3}'.format(len_before-len_after, \n",
    "                                                round((len_before/len_after)/len_before *100, 2), yr_start, yr_stop))"
   ]
  },
  {
   "cell_type": "code",
   "execution_count": 8,
   "metadata": {},
   "outputs": [],
   "source": [
    "# number of titles per year in dataset \n",
    "df_yr = df['Year'].value_counts().reset_index()\n",
    "df_yr.columns = ['Year','Count']\n",
    "\n",
    "trace = go.Bar(x=df_yr['Year'], y=df_yr['Count'], marker=dict(color=colors_dict['orange']))"
   ]
  },
  {
   "cell_type": "code",
   "execution_count": 9,
   "metadata": {},
   "outputs": [
    {
     "data": {
      "text/html": [
       "<iframe id=\"igraph\" scrolling=\"no\" style=\"border:none;\" seamless=\"seamless\" src=\"https://plot.ly/~bbiggs/801.embed\" height=\"525px\" width=\"100%\"></iframe>"
      ],
      "text/plain": [
       "<plotly.tools.PlotlyDisplay object>"
      ]
     },
     "execution_count": 9,
     "metadata": {},
     "output_type": "execute_result"
    }
   ],
   "source": [
    "data = [trace]\n",
    "layout = go.Layout(\n",
    "    title='Movies Released Annually ({0}-{1})'.format(yr_start, yr_stop),\n",
    "    xaxis=dict(\n",
    "        title='Release Year',\n",
    "        tickfont=dict(size=14,color=text_color)),\n",
    "    yaxis=dict(\n",
    "        title='Number of Movies',\n",
    "        titlefont=dict(size=16, color=text_color),\n",
    "        tickfont=dict(size=14, color=text_color)),\n",
    "    barmode='group',\n",
    "    bargap=0.15,\n",
    "    bargroupgap=0.1)\n",
    "\n",
    "fig = go.Figure(data=data, layout=layout)\n",
    "py.iplot(fig, filename='style-bar')"
   ]
  },
  {
   "cell_type": "markdown",
   "metadata": {},
   "source": [
    "# Number of Films per Genre"
   ]
  },
  {
   "cell_type": "code",
   "execution_count": 10,
   "metadata": {
    "collapsed": true
   },
   "outputs": [],
   "source": [
    "# split genre strings into a numpy array\n",
    "def split_to_array(ser):\n",
    "    split_array = np.array(ser.strip().replace(',','').split(' '))\n",
    "    return pd.Series(split_array)\n",
    "\n",
    "# turn numpy array into count of genre occurances\n",
    "genres = df['Genre'].apply(split_to_array)\n",
    "genres = pd.Series(genres.values.ravel()).dropna()\n",
    "genres = genres.value_counts().sort_values(ascending=False)\n",
    "\n",
    "# convert series to dataframe for plotting\n",
    "genre_ser = genres.reset_index()\n",
    "genre_ser.columns = ['Genre', 'Count']\n",
    "\n",
    "# bar chart of each genre in dataset\n",
    "trace = go.Bar(x=genre_ser['Genre'], y=genre_ser['Count'], marker=dict(color=colors_dict['yellow']))"
   ]
  },
  {
   "cell_type": "code",
   "execution_count": 11,
   "metadata": {
    "scrolled": false
   },
   "outputs": [
    {
     "data": {
      "text/html": [
       "<iframe id=\"igraph\" scrolling=\"no\" style=\"border:none;\" seamless=\"seamless\" src=\"https://plot.ly/~bbiggs/801.embed\" height=\"525px\" width=\"100%\"></iframe>"
      ],
      "text/plain": [
       "<plotly.tools.PlotlyDisplay object>"
      ]
     },
     "execution_count": 11,
     "metadata": {},
     "output_type": "execute_result"
    }
   ],
   "source": [
    "data = [trace]\n",
    "layout = go.Layout(\n",
    "    title='Genre Occurences ({0}-{1})'.format(yr_start, yr_stop),\n",
    "    xaxis=dict(\n",
    "        title='Genre',\n",
    "        tickfont=dict(size=14, color=text_color)),\n",
    "    yaxis=dict(\n",
    "        title='Occurences in Classification',\n",
    "        titlefont=dict(size=16, color=text_color),\n",
    "        tickfont=dict(size=14, color=text_color)),\n",
    "    barmode='group',\n",
    "    bargap=0.15,\n",
    "    bargroupgap=0.1)\n",
    "\n",
    "fig = go.Figure(data=data, layout=layout)\n",
    "py.iplot(fig, filename='style-bar')"
   ]
  },
  {
   "cell_type": "markdown",
   "metadata": {},
   "source": [
    "# Add Column for Genre That Occurs the Most out of Genres String"
   ]
  },
  {
   "cell_type": "code",
   "execution_count": 12,
   "metadata": {},
   "outputs": [],
   "source": [
    "def convert_frequency(ser, genres=genres):\n",
    "    split_array = np.array(ser.strip().replace(',','').split(' '))\n",
    "    genre = genres.loc[split_array].argmax()\n",
    "    return genre\n",
    "\n",
    "# add new column to dataframe classifying genre list as single genre of significance\n",
    "df['Genre_Single'] = df['Genre'].apply(convert_frequency)"
   ]
  },
  {
   "cell_type": "code",
   "execution_count": 13,
   "metadata": {},
   "outputs": [],
   "source": [
    "# look at number of single genre counts after extraction\n",
    "df_count = df['Genre_Single'].value_counts().reset_index()\n",
    "df_count.columns = ['Genre_Single', 'Count']\n",
    "\n",
    "# bar chart of significant single genre in dataset\n",
    "trace = go.Bar(x=df_count['Genre_Single'], y=df_count['Count'], marker=dict(color=colors_dict['blue']))"
   ]
  },
  {
   "cell_type": "code",
   "execution_count": 14,
   "metadata": {},
   "outputs": [
    {
     "data": {
      "text/html": [
       "<iframe id=\"igraph\" scrolling=\"no\" style=\"border:none;\" seamless=\"seamless\" src=\"https://plot.ly/~bbiggs/801.embed\" height=\"525px\" width=\"100%\"></iframe>"
      ],
      "text/plain": [
       "<plotly.tools.PlotlyDisplay object>"
      ]
     },
     "execution_count": 14,
     "metadata": {},
     "output_type": "execute_result"
    }
   ],
   "source": [
    "data = [trace]\n",
    "layout = go.Layout(\n",
    "    title='Dominate Genre Count ({0}-{1})'.format(yr_start, yr_stop),\n",
    "    xaxis=dict(\n",
    "        title='Genre',\n",
    "        tickfont=dict(size=14, color=text_color)),\n",
    "    yaxis=dict(\n",
    "        title='Genre Occurences',\n",
    "        titlefont=dict(size=16, color=text_color),\n",
    "        tickfont=dict(size=14, color=text_color)),\n",
    "    barmode='group',\n",
    "    bargap=0.15,\n",
    "    bargroupgap=0.1)\n",
    "\n",
    "fig = go.Figure(data=data, layout=layout)\n",
    "py.iplot(fig, filename='style-bar')"
   ]
  },
  {
   "cell_type": "markdown",
   "metadata": {},
   "source": [
    "# Dominate Genres Breakdown by Year"
   ]
  },
  {
   "cell_type": "code",
   "execution_count": 15,
   "metadata": {},
   "outputs": [],
   "source": [
    "def make_bar_trace(x_years, y_counts, name_genre, i):\n",
    "    trace = go.Bar(\n",
    "        x = x_years, \n",
    "        y = y_counts, \n",
    "        name = name_genre, \n",
    "        marker=dict(\n",
    "            color=colors_lst[i]),\n",
    "        opacity=0.8\n",
    "        )\n",
    "    return trace"
   ]
  },
  {
   "cell_type": "code",
   "execution_count": 16,
   "metadata": {},
   "outputs": [],
   "source": [
    "traces = []\n",
    "\n",
    "for i,genre in enumerate(df_count['Genre_Single'].unique().tolist()):\n",
    "    _genre_df = df[df['Genre_Single'] == genre]\n",
    "    _value_counts = _genre_df['Year'].value_counts()\n",
    "    gen = _value_counts.to_dict()\n",
    "    gen = sorted(gen.items())\n",
    "    \n",
    "    year_lst = [yr for yr,ct in gen]\n",
    "    count_lst = [ct for yr,ct in gen]\n",
    "    \n",
    "    traces.append(make_bar_trace(year_lst, count_lst, genre, i))"
   ]
  },
  {
   "cell_type": "code",
   "execution_count": 17,
   "metadata": {},
   "outputs": [
    {
     "data": {
      "text/html": [
       "<iframe id=\"igraph\" scrolling=\"no\" style=\"border:none;\" seamless=\"seamless\" src=\"https://plot.ly/~bbiggs/444.embed\" height=\"525px\" width=\"100%\"></iframe>"
      ],
      "text/plain": [
       "<plotly.tools.PlotlyDisplay object>"
      ]
     },
     "execution_count": 17,
     "metadata": {},
     "output_type": "execute_result"
    }
   ],
   "source": [
    "data = traces[::-1]\n",
    "\n",
    "layout = go.Layout(\n",
    "    title='Genres Annually ({0}-{1})'.format(yr_start, yr_stop),\n",
    "    xaxis=dict(\n",
    "        title='Year',\n",
    "        tickfont=dict(\n",
    "            size=14,\n",
    "            color='rgb(107, 107, 107)'\n",
    "        )\n",
    "    ),\n",
    "    yaxis=dict(\n",
    "        title='Number of Films',\n",
    "        titlefont=dict(\n",
    "            size=16,\n",
    "            color='rgb(107, 107, 107)'\n",
    "        ),\n",
    "        tickfont=dict(\n",
    "            size=14,\n",
    "            color='rgb(107, 107, 107)'\n",
    "        ),\n",
    "        dtick=20,\n",
    "    ),\n",
    "    barmode='stack',\n",
    ")\n",
    "\n",
    "fig = go.Figure(data=data, layout=layout)\n",
    "py.iplot(fig, filename='stacked-bar')"
   ]
  },
  {
   "cell_type": "code",
   "execution_count": 18,
   "metadata": {},
   "outputs": [],
   "source": [
    "def fill_missing_year(tup_lst):\n",
    "    years = df['Year'].sort_values().unique().tolist()\n",
    "    \n",
    "    itms = [yr for yr, ct in tup_lst]\n",
    "    mis_year = set(years) - set(itms)\n",
    "    \n",
    "    for yr in mis_year:\n",
    "        tup_lst.append((yr, 0))\n",
    "        \n",
    "    return tup_lst"
   ]
  },
  {
   "cell_type": "code",
   "execution_count": 19,
   "metadata": {},
   "outputs": [],
   "source": [
    "def tri_tup_dict():\n",
    "    temp = {}\n",
    "\n",
    "    for i, genre in enumerate(df_count['Genre_Single'].unique().tolist()):\n",
    "        _genre_df = df[df['Genre_Single'] == genre]\n",
    "        _value_counts = _genre_df['Year'].value_counts()\n",
    "        gen = _value_counts.to_dict()\n",
    "        gen = sorted(gen.items())\n",
    "\n",
    "        # fill in years with zero counts\n",
    "        fill_missing_year(gen)\n",
    "\n",
    "        # create triple tuple of genre, year, count\n",
    "        years = [yr for yr, ct in gen]\n",
    "        counts = [ct for yr, ct in gen]\n",
    "        genres = [genre] * len(gen)\n",
    "        tri_tup = zip(genres, years, counts)\n",
    "\n",
    "        # create dictionary keyed on genre and year with genre counts as value\n",
    "        for tup in tri_tup:\n",
    "            temp[(tup[0], tup[1])] = tup[2]\n",
    "    \n",
    "    return temp"
   ]
  },
  {
   "cell_type": "code",
   "execution_count": 20,
   "metadata": {},
   "outputs": [],
   "source": [
    "def percentage_dict(tri_dict):\n",
    "    years = [y for y in range(df['Year'].min(), df['Year'].max()+1)]\n",
    "    \n",
    "    # by year so that year stack adds up to 100%\n",
    "    for year in years:\n",
    "        temp = {}\n",
    "\n",
    "        # get subset (year) dictionary\n",
    "        for key,ct in tri_dict.items():\n",
    "            if year in key:\n",
    "                temp[key] = ct\n",
    "\n",
    "        # get total for year subset\n",
    "        total = sum(temp.values())\n",
    "\n",
    "        # put percentages back into main dictionary\n",
    "        for key,ct in temp.items():\n",
    "            tri_dict[key] = ct/total*100\n",
    "    \n",
    "    return tri_dict"
   ]
  },
  {
   "cell_type": "code",
   "execution_count": 21,
   "metadata": {
    "collapsed": true
   },
   "outputs": [],
   "source": [
    "def normalized_check(_dict):\n",
    "    years = [y for y in range(df['Year'].min(), df['Year'].max()+1)]\n",
    "    \n",
    "    for year in years:\n",
    "        temp = []\n",
    "        for key,ct in _dict.items():\n",
    "            if year in key:\n",
    "                temp.append(ct)\n",
    "        print('For {0} the total is: {1}'.format(year, sum(temp)))"
   ]
  },
  {
   "cell_type": "code",
   "execution_count": 22,
   "metadata": {},
   "outputs": [],
   "source": [
    "# normalized_check(percentage_dict(tri_tup_dict()))"
   ]
  },
  {
   "cell_type": "code",
   "execution_count": 23,
   "metadata": {},
   "outputs": [],
   "source": [
    "def make_filled_line_trace(x_years, y_counts, name_genre, color):\n",
    "    trace = go.Scatter(\n",
    "        x = x_years, \n",
    "        y = y_counts, \n",
    "        name = name_genre,\n",
    "        mode = 'lines',\n",
    "        line = dict(width=0.5,\n",
    "                   color = color),\n",
    "        fill = 'tonexty')\n",
    "    return trace"
   ]
  },
  {
   "cell_type": "code",
   "execution_count": 24,
   "metadata": {
    "collapsed": true
   },
   "outputs": [],
   "source": [
    "ord_lst = ['Crime', 'Adventure', 'Thriller', 'Horror', 'Action', 'Comedy', 'Drama']\n",
    "\n",
    "new_dict = {}\n",
    "ttl = np.array(0)\n",
    "for _gen in ord_lst:\n",
    "    temp = []\n",
    "    for tup in sorted(percentage_dict(tri_tup_dict()).items()):\n",
    "        if _gen in tup[0]:\n",
    "            temp.append(tup[1])\n",
    "    ttl = ttl + temp\n",
    "    new_dict[_gen] = ttl"
   ]
  },
  {
   "cell_type": "code",
   "execution_count": 25,
   "metadata": {
    "collapsed": true
   },
   "outputs": [],
   "source": [
    "traces = []\n",
    "ord_lst = ['Crime', 'Adventure', 'Thriller', 'Horror', 'Action', 'Comedy', 'Drama']\n",
    "years = [y for y in range(df['Year'].min(), df['Year'].max()+1)]\n",
    "\n",
    "for i, genre in enumerate(ord_lst):\n",
    "    yr_lst = years\n",
    "    ct_lst = new_dict[genre].tolist()\n",
    "\n",
    "    traces.append(make_filled_line_trace(yr_lst, ct_lst, genre, colors_lst[i]))"
   ]
  },
  {
   "cell_type": "code",
   "execution_count": 26,
   "metadata": {
    "scrolled": false
   },
   "outputs": [
    {
     "data": {
      "text/html": [
       "<iframe id=\"igraph\" scrolling=\"no\" style=\"border:none;\" seamless=\"seamless\" src=\"https://plot.ly/~bbiggs/205.embed\" height=\"600px\" width=\"1000px\"></iframe>"
      ],
      "text/plain": [
       "<plotly.tools.PlotlyDisplay object>"
      ]
     },
     "execution_count": 26,
     "metadata": {},
     "output_type": "execute_result"
    }
   ],
   "source": [
    "data = traces\n",
    "\n",
    "layout = go.Layout(\n",
    "    title='Normalized Genres Annually ({0}-{1})'.format(yr_start, yr_stop),\n",
    "    showlegend=True,\n",
    "    autosize=False,\n",
    "    width=1000,\n",
    "    height=600,\n",
    "    margin=go.Margin(\n",
    "        l=60,\n",
    "        r=40,\n",
    "        b=100,\n",
    "        t=100,\n",
    "        pad=4\n",
    "    ),\n",
    "    xaxis=dict(\n",
    "        title='Year',\n",
    "        tickfont=dict(\n",
    "        size=14,\n",
    "        color='rgb(107,107,107)'),\n",
    "        type='category',\n",
    "        dtick=2\n",
    "    ),\n",
    "    yaxis=dict(\n",
    "        title='Normalized Film Count % (Accumulative)',\n",
    "        titlefont=dict(\n",
    "        size=16,\n",
    "        color='rgb(107,107,107)'),\n",
    "        tickfont=dict(\n",
    "        size=14,\n",
    "        color='rgb(107,107,107)'),\n",
    "        type='linear',\n",
    "        range=[1, 100],\n",
    "        dtick=20,\n",
    "        ticksuffix='%'\n",
    "    )\n",
    ")\n",
    "fig = go.Figure(data=data, layout=layout)\n",
    "py.iplot(fig, filename='stacked-area-plot')"
   ]
  },
  {
   "cell_type": "markdown",
   "metadata": {},
   "source": [
    "# Remove Films Not Rated - PG-13, PG, G, or R"
   ]
  },
  {
   "cell_type": "code",
   "execution_count": 27,
   "metadata": {},
   "outputs": [
    {
     "name": "stdout",
     "output_type": "stream",
     "text": [
      "9 entries lost (0.08%) due to limiting to only PG-13, PG, G, R ratings\n"
     ]
    }
   ],
   "source": [
    "len_before = len(df)\n",
    "\n",
    "ratings = ['PG-13', 'PG', 'G', 'R']\n",
    "df = df.loc[df['Rated'].isin(ratings)]\n",
    "\n",
    "len_after = len(df)\n",
    "\n",
    "print('{0} entries lost ({1}%) due to limiting to only {2} ratings'.format(len_before-len_after, \n",
    "                                                round((len_before/len_after)/len_before *100, 2), ', '.join(ratings)))"
   ]
  },
  {
   "cell_type": "code",
   "execution_count": 28,
   "metadata": {},
   "outputs": [
    {
     "data": {
      "text/plain": [
       "Index(['Title', 'Released', 'Prod_Budget', 'Dom_Gross', 'World_Gross', 'Rated',\n",
       "       'Runtime', 'Genre', 'Director', 'Actors', 'Pirate_Count',\n",
       "       'Torrentz_Count', 'Zoogle_Ver_Count', 'Year', 'Month', 'Total_Torrents',\n",
       "       'Year_Int', 'Genre_Single'],\n",
       "      dtype='object')"
      ]
     },
     "execution_count": 28,
     "metadata": {},
     "output_type": "execute_result"
    }
   ],
   "source": [
    "df.columns"
   ]
  },
  {
   "cell_type": "code",
   "execution_count": 29,
   "metadata": {},
   "outputs": [
    {
     "name": "stderr",
     "output_type": "stream",
     "text": [
      "/Users/bryant/anaconda/lib/python3.6/site-packages/plotly/tools.py:1422: UserWarning:\n",
      "\n",
      "plotly.tools.FigureFactory.create_scatterplotmatrix is deprecated. Use plotly.figure_factory.create_scatterplotmatrix\n",
      "\n"
     ]
    },
    {
     "data": {
      "text/html": [
       "<iframe id=\"igraph\" scrolling=\"no\" style=\"border:none;\" seamless=\"seamless\" src=\"https://plot.ly/~bbiggs/207.embed\" height=\"1000px\" width=\"1000px\"></iframe>"
      ],
      "text/plain": [
       "<plotly.tools.PlotlyDisplay object>"
      ]
     },
     "execution_count": 29,
     "metadata": {},
     "output_type": "execute_result"
    }
   ],
   "source": [
    "colors_scat = colors_lst[:-2]\n",
    "df_scat = df[['Prod_Budget', 'Year', 'Month', 'Rated', 'Genre_Single']]\n",
    "\n",
    "fig = FF.create_scatterplotmatrix(df_scat, diag='histogram', index='Genre_Single', \n",
    "                                    height=1000, width=1000, colormap=colors_scat[::-1])\n",
    "py.iplot(fig, filename='Luther Scatterplot Matrix')"
   ]
  },
  {
   "cell_type": "code",
   "execution_count": 30,
   "metadata": {},
   "outputs": [
    {
     "ename": "NameError",
     "evalue": "name 'df_sub' is not defined",
     "output_type": "error",
     "traceback": [
      "\u001b[0;31m---------------------------------------------------------------------------\u001b[0m",
      "\u001b[0;31mNameError\u001b[0m                                 Traceback (most recent call last)",
      "\u001b[0;32m<ipython-input-30-892f5235bd9b>\u001b[0m in \u001b[0;36m<module>\u001b[0;34m()\u001b[0m\n\u001b[1;32m      1\u001b[0m \u001b[0;32mfrom\u001b[0m \u001b[0mpatsy\u001b[0m \u001b[0;32mimport\u001b[0m \u001b[0mdmatrices\u001b[0m\u001b[0;34m\u001b[0m\u001b[0m\n\u001b[1;32m      2\u001b[0m \u001b[0mpatsy_formula\u001b[0m \u001b[0;34m=\u001b[0m \u001b[0;34m'Total_Torrents ~ Prod_Budget + Year + Month + Runtime + Genre_Single'\u001b[0m\u001b[0;34m\u001b[0m\u001b[0m\n\u001b[0;32m----> 3\u001b[0;31m \u001b[0my\u001b[0m\u001b[0;34m,\u001b[0m \u001b[0mx\u001b[0m \u001b[0;34m=\u001b[0m \u001b[0mdmatrices\u001b[0m\u001b[0;34m(\u001b[0m\u001b[0mpatsy_formula\u001b[0m\u001b[0;34m,\u001b[0m \u001b[0mdata\u001b[0m\u001b[0;34m=\u001b[0m\u001b[0mdf_sub\u001b[0m\u001b[0;34m,\u001b[0m \u001b[0mreturn_type\u001b[0m\u001b[0;34m=\u001b[0m\u001b[0;34m'dataframe'\u001b[0m\u001b[0;34m)\u001b[0m\u001b[0;34m\u001b[0m\u001b[0m\n\u001b[0m",
      "\u001b[0;31mNameError\u001b[0m: name 'df_sub' is not defined"
     ]
    }
   ],
   "source": [
    "from patsy import dmatrices\n",
    "patsy_formula = 'Total_Torrents ~ Prod_Budget + Year + Month + Runtime + Genre_Single'\n",
    "y, x = dmatrices(patsy_formula, data=df_sub, return_type='dataframe')"
   ]
  },
  {
   "cell_type": "code",
   "execution_count": null,
   "metadata": {},
   "outputs": [],
   "source": [
    "import statsmodels.api as sm\n",
    "model = sm.OLS(y, x)\n",
    "results = model.fit()\n",
    "results.summary()"
   ]
  },
  {
   "cell_type": "code",
   "execution_count": null,
   "metadata": {},
   "outputs": [],
   "source": [
    "from sklearn.linear_model import LinearRegression\n",
    "model = LinearRegression()\n",
    "model.fit(x, y)\n",
    "mod_lr_score = model.score(x, y)\n",
    "mod_lr_coef = model.coef_\n",
    "model.results"
   ]
  },
  {
   "cell_type": "code",
   "execution_count": null,
   "metadata": {
    "collapsed": true
   },
   "outputs": [],
   "source": [
    "from sklearn import cross_validation as cv\n",
    "from sklearn import metrics\n",
    "\n",
    "x_train, x_test, y_train, y_test = cv.train_test_split(x,y,test_size=0.20,random_state=1234)\n",
    "\n",
    "model = LinearRegression().fit(x_train, y_train)\n",
    "\n",
    "# store results\n",
    "mean_sq_err = metrics.mean_squared_error(y_train,model.predict(x_train))\n",
    "cv_mod_score = model.score(x_train, y_train)"
   ]
  },
  {
   "cell_type": "code",
   "execution_count": null,
   "metadata": {
    "collapsed": true
   },
   "outputs": [],
   "source": [
    "# reset x, y otherwise errors occur\n",
    "y, x = dmatrices(patsy_formula, data=df_sub, return_type='dataframe')\n",
    "\n",
    "from sklearn.cross_validation import KFold\n",
    "kf = KFold(len(df_sub), n_folds=10, shuffle=True)\n",
    "\n",
    "for train_index, test_index in kf:\n",
    "    x_train, x_test = x.iloc[train_index], x.iloc[test_index]\n",
    "    y_train, y_test = y.iloc[train_index], y.iloc[test_index]\n",
    "    clf2 = LinearRegression().fit(x.iloc[train_index], y.iloc[train_index])\n",
    "\n",
    "# store results\n",
    "mean_sq_errKf = metrics.mean_squared_error(y_train,model.predict(x_train))\n",
    "cvKf_mod_score = clf2.score(x,y)"
   ]
  },
  {
   "cell_type": "code",
   "execution_count": null,
   "metadata": {},
   "outputs": [],
   "source": [
    "#NORMAL RESULTS\n",
    "print('Model Linear Regression Score = {0}'.format(mod_lr_score))\n",
    "print('            Mean Square Error = {0}'.format(mean_sq_err))\n",
    "print(' Cross Validation Model Score = {0}'.format(cv_mod_score))\n",
    "print('     Mean Squred Error K-Fold = {0}'.format(mean_sq_errKf))\n",
    "print('Cross Val. K-Fold Model Score = {0}'.format(cvKf_mod_score))"
   ]
  },
  {
   "cell_type": "code",
   "execution_count": null,
   "metadata": {},
   "outputs": [],
   "source": [
    "fig = plt.figure(figsize=(12,8))\n",
    "fig = sm.graphics.plot_regress_exog(results,'Prod_Budget', fig=fig)"
   ]
  },
  {
   "cell_type": "markdown",
   "metadata": {},
   "source": [
    "---\n",
    "# Log Transform"
   ]
  },
  {
   "cell_type": "code",
   "execution_count": null,
   "metadata": {},
   "outputs": [],
   "source": [
    "df.columns"
   ]
  },
  {
   "cell_type": "code",
   "execution_count": null,
   "metadata": {},
   "outputs": [],
   "source": [
    "df_sub['log_budg']=np.log(df_sub.Prod_Budget)\n",
    "#df_sub['log_year']=np.log(df_sub.Year)\n",
    "#df_sub['log_run']=np.log(df_sub.Runtime)\n",
    "df_sub['log_tor']=np.log(df_sub.Total_Torrents)\n",
    "\n",
    "trans = df_sub[['log_budg', 'Year', 'log_tor']]\n",
    "plt.rcParams['figure.figsize'] = (15, 15)\n",
    "pd.tools.plotting.scatter_matrix(trans)"
   ]
  },
  {
   "cell_type": "code",
   "execution_count": null,
   "metadata": {},
   "outputs": [],
   "source": [
    "log_patsy_formula = 'log_tor ~ log_budg + Year + Month'\n",
    "y, x = dmatrices(log_patsy_formula, data=df_sub, return_type='dataframe')"
   ]
  },
  {
   "cell_type": "code",
   "execution_count": null,
   "metadata": {},
   "outputs": [],
   "source": [
    "import plotly.plotly as py\n",
    "from plotly.tools import FigureFactory as FF\n",
    "\n",
    "df_a = df_sub[['log_budg', 'Year', 'Month', 'log_tor']]\n",
    "fig = FF.create_scatterplotmatrix(df_a, diag='histogram', index='Month',\n",
    "                                  height=800, width=800)\n",
    "py.iplot(fig, filename='Histograms along Diagonal Subplots')"
   ]
  },
  {
   "cell_type": "code",
   "execution_count": null,
   "metadata": {},
   "outputs": [],
   "source": [
    "import statsmodels.formula.api as smf\n",
    "results = smf.ols(formula=log_patsy_formula, data=df_sub,).fit()\n",
    "results.summary()"
   ]
  },
  {
   "cell_type": "code",
   "execution_count": null,
   "metadata": {},
   "outputs": [],
   "source": [
    "from sklearn.linear_model import LinearRegression\n",
    "model = LinearRegression()\n",
    "model.fit(x, y)\n",
    "\n",
    "# store results\n",
    "log_mod_lr_score = model.score(x,y)"
   ]
  },
  {
   "cell_type": "code",
   "execution_count": null,
   "metadata": {},
   "outputs": [],
   "source": [
    "from sklearn import cross_validation as cv\n",
    "from sklearn import metrics\n",
    "\n",
    "x_train, x_test, y_train, y_test = cv.train_test_split(x,y,test_size=0.20,random_state=1234)\n",
    "\n",
    "model = LinearRegression().fit(x_train, y_train)\n",
    "\n",
    "# store results\n",
    "log_mean_sq_err = metrics.mean_squared_error(y_train,model.predict(x_train))\n",
    "log_cv_mod_score = model.score(x_train, y_train)"
   ]
  },
  {
   "cell_type": "code",
   "execution_count": null,
   "metadata": {},
   "outputs": [],
   "source": [
    "# reset x, y otherwise errors occur\n",
    "y, x = dmatrices(log_patsy_formula, data=df_sub, return_type='dataframe')\n",
    "\n",
    "from sklearn.cross_validation import KFold\n",
    "kf = KFold(len(df_sub), n_folds=10, shuffle=True)\n",
    "\n",
    "for train_index, test_index in kf:\n",
    "    x_train, x_test = x.iloc[train_index], x.iloc[test_index]\n",
    "    y_train, y_test = y.iloc[train_index], y.iloc[test_index]\n",
    "    clf2 = LinearRegression().fit(x.iloc[train_index], y.iloc[train_index])\n",
    "\n",
    "# store results\n",
    "log_mean_sq_errKf = metrics.mean_squared_error(y_train,model.predict(x_train))\n",
    "log_cvKf_mod_score = clf2.score(x,y)"
   ]
  },
  {
   "cell_type": "code",
   "execution_count": null,
   "metadata": {},
   "outputs": [],
   "source": [
    "#LOG RESULTS\n",
    "print('Log Model Linear Regression Score = {0}'.format(log_mod_lr_score))\n",
    "print('            Log Mean Square Error = {0}'.format(log_mean_sq_err))\n",
    "print(' Log Cross Validation Model Score = {0}'.format(log_cv_mod_score))\n",
    "print('     Log Mean Squred Error K-Fold = {0}'.format(log_mean_sq_errKf))\n",
    "print('Log Cross Val. K-Fold Model Score = {0}'.format(log_cvKf_mod_score))"
   ]
  },
  {
   "cell_type": "code",
   "execution_count": null,
   "metadata": {},
   "outputs": [],
   "source": [
    "df_TEST = pd.read_csv('data/test_data2.csv', encoding='latin-1')\n",
    "\n",
    "df_TEST['log_budg']=np.log(df_TEST.Prod_Budget)\n",
    "df_TEST['log_run']=np.log(df_TEST.Runtime)\n",
    "df_TEST['log_tor']=np.log(df_TEST.Total_Torrents)\n",
    "\n",
    "def split_to_array(ser):\n",
    "    split_array = np.array(ser.strip().replace(',','').split(' '))\n",
    "    return pd.Series(split_array)\n",
    "\n",
    "genres = df_yr.Genre.apply(split_to_array)\n",
    "genres = pd.Series(genres.values.ravel()).dropna()\n",
    "genres = genres.value_counts().sort_values(ascending=False)\n",
    "\n",
    "def convert_frequency(ser, genres=genres):\n",
    "    split_array = np.array(ser.strip().replace(',','').split(' '))\n",
    "    genre = genres.loc[split_array].argmax()\n",
    "    return genre\n",
    "\n",
    "df_TEST['Genre_Single'] = df_TEST.Genre.apply(convert_frequency)\n",
    "\n",
    "log_patsy_formula_test = 'log_tor ~ log_budg + Year + Month + log_run + Genre_Single'\n",
    "y, x = dmatrices(log_patsy_formula_test, data=df_TEST, return_type='dataframe')\n",
    "\n",
    "print(clf2.score(x_test, y_test))\n",
    "print(metrics.mean_squared_error(y_test,model.predict(x_test)))"
   ]
  },
  {
   "cell_type": "code",
   "execution_count": null,
   "metadata": {},
   "outputs": [],
   "source": [
    "_ = plt.plot(y, model.predict(x), 'bo')"
   ]
  },
  {
   "cell_type": "code",
   "execution_count": null,
   "metadata": {},
   "outputs": [],
   "source": [
    "plt.figure(figsize=(25,10))\n",
    "\n",
    "ind = np.arange(len(yr_dict))\n",
    "width = 0.35\n",
    "\n",
    "bar_year = [year for year, count in yr_lst]\n",
    "bar_count = [count for year, count in yr_lst]\n",
    "\n",
    "plt.bar(ind, bar_count, width, color='r')\n",
    "\n",
    "plt.ylabel('Count')\n",
    "plt.xlabel('Year')\n",
    "plt.title('Number of Torrents per Year')\n",
    "plt.xticks(ind + width/2., (bar_year), rotation='vertical')\n",
    "plt.yticks(np.arange(0, 91, 5))\n",
    "\n",
    "plt.show()"
   ]
  },
  {
   "cell_type": "code",
   "execution_count": null,
   "metadata": {
    "collapsed": true
   },
   "outputs": [],
   "source": [
    "#log_tor ~ log_budg + Year + Month + log_run + Genre_Single'"
   ]
  },
  {
   "cell_type": "code",
   "execution_count": null,
   "metadata": {},
   "outputs": [],
   "source": [
    "fig = plt.figure(figsize=(12,8))\n",
    "fig = sm.graphics.plot_regress_exog(results,'log_budg', fig=fig)"
   ]
  },
  {
   "cell_type": "code",
   "execution_count": null,
   "metadata": {},
   "outputs": [],
   "source": [
    "fig = plt.figure(figsize=(12,8))\n",
    "fig = sm.graphics.plot_regress_exog(results,'Year', fig=fig)"
   ]
  },
  {
   "cell_type": "code",
   "execution_count": null,
   "metadata": {},
   "outputs": [],
   "source": [
    "fig = plt.figure(figsize=(12,8))\n",
    "fig = sm.graphics.plot_regress_exog(results,'Month', fig=fig)"
   ]
  },
  {
   "cell_type": "raw",
   "metadata": {},
   "source": [
    "# 1998\n",
    "mask =  (df_yr['Year'] == 1998) & (df_yr['Total_Torrents'] > 100)\n",
    "df_yr = df_yr[~mask]\n",
    "\n",
    "# 1999\n",
    "mask =  (df_yr['Year'] == 1999) & (df_yr['Total_Torrents'] > 200)\n",
    "df_yr = df_yr[~mask]\n",
    "\n",
    "# 2000\n",
    "mask =  (df_yr['Year'] == 2000) & (df_yr['Total_Torrents'] > 200)\n",
    "df_yr = df_yr[~mask]\n",
    "\n",
    "# 2001\n",
    "mask =  (df_yr['Year'] == 2001) & (df_yr['Total_Torrents'] > 300)\n",
    "df_yr = df_yr[~mask]\n",
    "\n",
    "# 2002\n",
    "mask =  (df_yr['Year'] == 2002) & (df_yr['Total_Torrents'] > 300)\n",
    "df_yr = df_yr[~mask]\n",
    "\n",
    "# 2003\n",
    "mask =  (df_yr['Year'] == 2003) & (df_yr['Total_Torrents'] > 300)\n",
    "df_yr = df_yr[~mask]\n",
    "\n",
    "# 2004\n",
    "# 2005\n",
    "mask =  (df_yr['Year'] == 2005) & (df_yr['Total_Torrents'] > 300)\n",
    "df_yr = df_yr[~mask]\n",
    "\n",
    "# 2006\n",
    "mask =  (df_yr['Year'] == 2006) & (df_yr['Total_Torrents'] > 300)\n",
    "df_yr = df_yr[~mask]\n",
    "\n",
    "# 2007\n",
    "mask =  (df_yr['Year'] == 2007) & (df_yr['Total_Torrents'] > 450)\n",
    "df_yr = df_yr[~mask]\n",
    "\n",
    "# 2010\n",
    "mask =  (df_yr['Year'] == 2010) & (df_yr['Total_Torrents'] > 800)\n",
    "df_yr = df_yr[~mask]\n",
    "\n",
    "# 2014\n",
    "mask =  (df_yr['Year'] == 2014) & (df_yr['Total_Torrents'] > 850)\n",
    "df_yr = df_yr[~mask]"
   ]
  },
  {
   "cell_type": "code",
   "execution_count": null,
   "metadata": {},
   "outputs": [],
   "source": []
  },
  {
   "cell_type": "code",
   "execution_count": null,
   "metadata": {
    "collapsed": true
   },
   "outputs": [],
   "source": []
  }
 ],
 "metadata": {
  "anaconda-cloud": {},
  "kernelspec": {
   "display_name": "Python [default]",
   "language": "python",
   "name": "python3"
  },
  "language_info": {
   "codemirror_mode": {
    "name": "ipython",
    "version": 3
   },
   "file_extension": ".py",
   "mimetype": "text/x-python",
   "name": "python",
   "nbconvert_exporter": "python",
   "pygments_lexer": "ipython3",
   "version": "3.6.2"
  }
 },
 "nbformat": 4,
 "nbformat_minor": 1
}
