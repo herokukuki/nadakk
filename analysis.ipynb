{
 "cells": [
  {
   "cell_type": "code",
   "execution_count": 36,
   "metadata": {},
   "outputs": [],
   "source": [
    "import os\n",
    "import pandas as pd\n",
    "import numpy as np\n",
    "\n",
    "import itertools\n",
    "import operator\n",
    "import string\n",
    "from collections import defaultdict, Counter\n",
    "\n",
    "import plotly\n",
    "import plotly.plotly as py\n",
    "import plotly.graph_objs as go\n",
    "from plotly.tools import FigureFactory as FF"
   ]
  },
  {
   "cell_type": "markdown",
   "metadata": {},
   "source": [
    "# Plotly Setup"
   ]
  },
  {
   "cell_type": "code",
   "execution_count": 46,
   "metadata": {},
   "outputs": [],
   "source": [
    "# plotly username and password\n",
    "with open('../_credentials/plotly.txt', 'r') as infile:\n",
    "    user, pw = infile.read().strip().split(', ')\n",
    "    \n",
    "plotly.tools.set_credentials_file(username=user, api_key=pw)\n",
    "\n",
    "text_color = 'rgb(107, 107, 107)'\n",
    "\n",
    "colors_dict = {'grey':'rgb(189, 195, 199)', 'aqua':'rgb( 54, 215, 183)', 'navy':'rgb( 31,  58, 147)',\n",
    "            'purple':'rgb(142,  68, 173)', 'blue':'rgb( 25, 181, 254)', 'green':'rgb( 46, 204, 113)',\n",
    "            'yellow':'rgb(253, 231,  76)', 'orange':'rgb(250, 121,  33)', 'red':'rgb(242,  38,  19)'}\n",
    "\n",
    "colors_lst = [colors_dict['yellow'], colors_dict['orange'], colors_dict['red'], \n",
    "              colors_dict['green'], colors_dict['blue'], colors_dict['purple'], \n",
    "              colors_dict['navy'], colors_dict['aqua'], colors_dict['grey']]"
   ]
  },
  {
   "cell_type": "markdown",
   "metadata": {},
   "source": [
    "# Load Cleaned Data"
   ]
  },
  {
   "cell_type": "code",
   "execution_count": 47,
   "metadata": {},
   "outputs": [],
   "source": [
    "from src.my_aws import S3\n",
    "\n",
    "KEY_OMDB_TOR = 'OMDB_Torrents.csv'\n",
    "KEY_NUM = 'TheNumbers_budgets.csv'\n",
    "KEY_FINAL = 'Final_Data.csv'\n",
    "BUCKET = 'movie-torrents'\n",
    "\n",
    "s3_obj = S3()\n",
    "df = s3_obj.get_data(KEY_FINAL, BUCKET)\n",
    "\n",
    "# update dates to datetime objects\n",
    "df['Released'] = pd.to_datetime(df['Released'])\n",
    "df['Year'] = pd.to_numeric(pd.DatetimeIndex(df['Released']).year)\n",
    "df['Month'] = pd.to_numeric(pd.DatetimeIndex(df['Released']).month)"
   ]
  },
  {
   "cell_type": "markdown",
   "metadata": {},
   "source": [
    "# Number of Films Released Annually"
   ]
  },
  {
   "cell_type": "code",
   "execution_count": 48,
   "metadata": {},
   "outputs": [],
   "source": [
    "# number of titles per year in dataset\n",
    "df_yr = df['Year'].value_counts().reset_index()\n",
    "df_yr.columns = ['Year','Count']\n",
    "\n",
    "yr_start = df['Year'].min(axis=0)\n",
    "yr_stop = df['Year'].max(axis=0)\n",
    "trace = go.Bar(x=df_yr['Year'], y=df_yr['Count'], marker=dict(color=colors_dict['red']))"
   ]
  },
  {
   "cell_type": "code",
   "execution_count": 49,
   "metadata": {},
   "outputs": [
    {
     "data": {
      "text/html": [
       "<iframe id=\"igraph\" scrolling=\"no\" style=\"border:none;\" seamless=\"seamless\" src=\"https://plot.ly/~bbiggs/801.embed\" height=\"525px\" width=\"100%\"></iframe>"
      ],
      "text/plain": [
       "<plotly.tools.PlotlyDisplay object>"
      ]
     },
     "execution_count": 49,
     "metadata": {},
     "output_type": "execute_result"
    }
   ],
   "source": [
    "data = [trace]\n",
    "layout = go.Layout(\n",
    "    title='Movies Released Annually ({0}-{1})'.format(yr_start, yr_stop),\n",
    "    xaxis=dict(\n",
    "        title='Release Year',\n",
    "        tickfont=dict(size=14, color=text_color)),\n",
    "    yaxis=dict(\n",
    "        title='Number of Movies',\n",
    "        titlefont=dict(size=16, color=text_color),\n",
    "        tickfont=dict(size=14, color=text_color)),\n",
    "    barmode='group',\n",
    "    bargap=0.15,\n",
    "    bargroupgap=0.1)\n",
    "\n",
    "fig = go.Figure(data=data, layout=layout)\n",
    "py.iplot(fig, filename='style-bar')"
   ]
  },
  {
   "cell_type": "markdown",
   "metadata": {},
   "source": [
    "# Trim Dataset by Years of Interest"
   ]
  },
  {
   "cell_type": "code",
   "execution_count": 50,
   "metadata": {},
   "outputs": [],
   "source": [
    "def df_year_limit(start, stop, df):\n",
    "    mask = (df['Year'] >= start) & (df['Year'] <= stop)\n",
    "    df = df.loc[mask]\n",
    "    return df"
   ]
  },
  {
   "cell_type": "code",
   "execution_count": 54,
   "metadata": {},
   "outputs": [
    {
     "name": "stdout",
     "output_type": "stream",
     "text": [
      "72 entries lost (1.86%) due to date cutoff between 1940 and 2015\n"
     ]
    }
   ],
   "source": [
    "yr_start = 1940\n",
    "yr_stop = 2015\n",
    "\n",
    "len_before = len(df)\n",
    "df = df_year_limit(yr_start, yr_stop, df)\n",
    "len_after = len(df)\n",
    "\n",
    "print('{0} entries lost ({1}%) due to date cutoff between {2} and {3}'.format(\n",
    "    len_before-len_after, round((len_before-len_after)/len_before *100, 2), yr_start, yr_stop))"
   ]
  },
  {
   "cell_type": "code",
   "execution_count": 55,
   "metadata": {},
   "outputs": [],
   "source": [
    "# number of titles per year in dataset \n",
    "df_yr = df['Year'].value_counts().reset_index()\n",
    "df_yr.columns = ['Year','Count']\n",
    "\n",
    "trace = go.Bar(x=df_yr['Year'], y=df_yr['Count'], marker=dict(color=colors_dict['orange']))"
   ]
  },
  {
   "cell_type": "code",
   "execution_count": 56,
   "metadata": {},
   "outputs": [
    {
     "data": {
      "text/html": [
       "<iframe id=\"igraph\" scrolling=\"no\" style=\"border:none;\" seamless=\"seamless\" src=\"https://plot.ly/~bbiggs/801.embed\" height=\"525px\" width=\"100%\"></iframe>"
      ],
      "text/plain": [
       "<plotly.tools.PlotlyDisplay object>"
      ]
     },
     "execution_count": 56,
     "metadata": {},
     "output_type": "execute_result"
    }
   ],
   "source": [
    "data = [trace]\n",
    "layout = go.Layout(\n",
    "    title='Movies Released Annually ({0}-{1})'.format(yr_start, yr_stop),\n",
    "    xaxis=dict(\n",
    "        title='Release Year',\n",
    "        tickfont=dict(size=14,color=text_color)),\n",
    "    yaxis=dict(\n",
    "        title='Number of Movies',\n",
    "        titlefont=dict(size=16, color=text_color),\n",
    "        tickfont=dict(size=14, color=text_color)),\n",
    "    barmode='group',\n",
    "    bargap=0.15,\n",
    "    bargroupgap=0.1)\n",
    "\n",
    "fig = go.Figure(data=data, layout=layout)\n",
    "py.iplot(fig, filename='style-bar')"
   ]
  },
  {
   "cell_type": "markdown",
   "metadata": {},
   "source": [
    "# Number of Films per Genre"
   ]
  },
  {
   "cell_type": "code",
   "execution_count": 57,
   "metadata": {},
   "outputs": [],
   "source": [
    "# split genre strings into a numpy array\n",
    "def split_to_array(ser):\n",
    "    split_array = np.array(ser.strip().replace(',','').split(' '))\n",
    "    return pd.Series(split_array)\n",
    "\n",
    "# turn numpy array into count of genre occurances\n",
    "genres = df['Genre'].apply(split_to_array)\n",
    "genres = pd.Series(genres.values.ravel()).dropna()\n",
    "genres = genres.value_counts().sort_values(ascending=False)\n",
    "\n",
    "# convert series to dataframe for plotting\n",
    "genre_ser = genres.reset_index()\n",
    "genre_ser.columns = ['Genre', 'Count']\n",
    "\n",
    "# bar chart of each genre in dataset\n",
    "trace = go.Bar(x=genre_ser['Genre'], y=genre_ser['Count'], marker=dict(color=colors_dict['yellow']))"
   ]
  },
  {
   "cell_type": "code",
   "execution_count": 58,
   "metadata": {
    "scrolled": false
   },
   "outputs": [
    {
     "data": {
      "text/html": [
       "<iframe id=\"igraph\" scrolling=\"no\" style=\"border:none;\" seamless=\"seamless\" src=\"https://plot.ly/~bbiggs/801.embed\" height=\"525px\" width=\"100%\"></iframe>"
      ],
      "text/plain": [
       "<plotly.tools.PlotlyDisplay object>"
      ]
     },
     "execution_count": 58,
     "metadata": {},
     "output_type": "execute_result"
    }
   ],
   "source": [
    "data = [trace]\n",
    "layout = go.Layout(\n",
    "    title='Genre Occurences ({0}-{1})'.format(yr_start, yr_stop),\n",
    "    xaxis=dict(\n",
    "        title='Genre',\n",
    "        tickfont=dict(size=14, color=text_color)),\n",
    "    yaxis=dict(\n",
    "        title='Occurences in Classification',\n",
    "        titlefont=dict(size=16, color=text_color),\n",
    "        tickfont=dict(size=14, color=text_color)),\n",
    "    barmode='group',\n",
    "    bargap=0.15,\n",
    "    bargroupgap=0.1)\n",
    "\n",
    "fig = go.Figure(data=data, layout=layout)\n",
    "py.iplot(fig, filename='style-bar')"
   ]
  },
  {
   "cell_type": "markdown",
   "metadata": {},
   "source": [
    "# Add Column for Genre That Occurs the Most out of Genres String"
   ]
  },
  {
   "cell_type": "code",
   "execution_count": 59,
   "metadata": {},
   "outputs": [],
   "source": [
    "def convert_frequency(ser, genres=genres):\n",
    "    split_array = np.array(ser.strip().replace(',','').split(' '))\n",
    "    genre = genres.loc[split_array].argmax()\n",
    "    return genre\n",
    "\n",
    "# add new column to dataframe classifying genre list as single genre of significance\n",
    "df['Genre_Single'] = df['Genre'].apply(convert_frequency)"
   ]
  },
  {
   "cell_type": "code",
   "execution_count": 60,
   "metadata": {},
   "outputs": [],
   "source": [
    "# look at number of single genre counts after extraction\n",
    "df_count = df['Genre_Single'].value_counts().reset_index()\n",
    "df_count.columns = ['Genre_Single', 'Count']\n",
    "\n",
    "# bar chart of significant single genre in dataset\n",
    "trace = go.Bar(x=df_count['Genre_Single'], y=df_count['Count'], marker=dict(color=colors_dict['blue']))"
   ]
  },
  {
   "cell_type": "code",
   "execution_count": 61,
   "metadata": {},
   "outputs": [
    {
     "data": {
      "text/html": [
       "<iframe id=\"igraph\" scrolling=\"no\" style=\"border:none;\" seamless=\"seamless\" src=\"https://plot.ly/~bbiggs/801.embed\" height=\"525px\" width=\"100%\"></iframe>"
      ],
      "text/plain": [
       "<plotly.tools.PlotlyDisplay object>"
      ]
     },
     "execution_count": 61,
     "metadata": {},
     "output_type": "execute_result"
    }
   ],
   "source": [
    "data = [trace]\n",
    "layout = go.Layout(\n",
    "    title='Dominate Genre Count ({0}-{1})'.format(yr_start, yr_stop),\n",
    "    xaxis=dict(\n",
    "        title='Genre',\n",
    "        tickfont=dict(size=14, color=text_color)),\n",
    "    yaxis=dict(\n",
    "        title='Genre Occurences',\n",
    "        titlefont=dict(size=16, color=text_color),\n",
    "        tickfont=dict(size=14, color=text_color)),\n",
    "    barmode='group',\n",
    "    bargap=0.15,\n",
    "    bargroupgap=0.1)\n",
    "\n",
    "fig = go.Figure(data=data, layout=layout)\n",
    "py.iplot(fig, filename='style-bar')"
   ]
  },
  {
   "cell_type": "markdown",
   "metadata": {},
   "source": [
    "# Dominate Genres Breakdown by Year"
   ]
  },
  {
   "cell_type": "code",
   "execution_count": 64,
   "metadata": {},
   "outputs": [],
   "source": [
    "def make_bar_trace(x_years, y_counts, name_genre, i):\n",
    "    trace = go.Bar(\n",
    "        x = x_years, \n",
    "        y = y_counts, \n",
    "        name = name_genre, \n",
    "#         marker=dict(\n",
    "#             color=colors_lst[i]),\n",
    "        opacity=0.8\n",
    "        )\n",
    "    return trace"
   ]
  },
  {
   "cell_type": "code",
   "execution_count": 65,
   "metadata": {},
   "outputs": [],
   "source": [
    "traces = []\n",
    "\n",
    "for i,genre in enumerate(df_count['Genre_Single'].unique().tolist()):\n",
    "    _genre_df = df[df['Genre_Single'] == genre]\n",
    "    _value_counts = _genre_df['Year'].value_counts()\n",
    "    gen = _value_counts.to_dict()\n",
    "    gen = sorted(gen.items())\n",
    "    \n",
    "    year_lst = [yr for yr,ct in gen]\n",
    "    count_lst = [ct for yr,ct in gen]\n",
    "    \n",
    "    traces.append(make_bar_trace(year_lst, count_lst, genre, i))"
   ]
  },
  {
   "cell_type": "code",
   "execution_count": 66,
   "metadata": {},
   "outputs": [
    {
     "data": {
      "text/html": [
       "<iframe id=\"igraph\" scrolling=\"no\" style=\"border:none;\" seamless=\"seamless\" src=\"https://plot.ly/~bbiggs/444.embed\" height=\"525px\" width=\"100%\"></iframe>"
      ],
      "text/plain": [
       "<plotly.tools.PlotlyDisplay object>"
      ]
     },
     "execution_count": 66,
     "metadata": {},
     "output_type": "execute_result"
    }
   ],
   "source": [
    "data = traces[::-1]\n",
    "\n",
    "layout = go.Layout(\n",
    "    title='Genres Annually ({0}-{1})'.format(yr_start, yr_stop),\n",
    "    xaxis=dict(\n",
    "        title='Year',\n",
    "        tickfont=dict(\n",
    "            size=14,\n",
    "            color='rgb(107, 107, 107)'\n",
    "        )\n",
    "    ),\n",
    "    yaxis=dict(\n",
    "        title='Number of Films',\n",
    "        titlefont=dict(\n",
    "            size=16,\n",
    "            color='rgb(107, 107, 107)'\n",
    "        ),\n",
    "        tickfont=dict(\n",
    "            size=14,\n",
    "            color='rgb(107, 107, 107)'\n",
    "        ),\n",
    "        dtick=20,\n",
    "    ),\n",
    "    barmode='stack',\n",
    ")\n",
    "\n",
    "fig = go.Figure(data=data, layout=layout)\n",
    "py.iplot(fig, filename='stacked-bar')"
   ]
  },
  {
   "cell_type": "code",
   "execution_count": 67,
   "metadata": {},
   "outputs": [],
   "source": [
    "def fill_missing_year(tup_lst):\n",
    "    years = df['Year'].sort_values().unique().tolist()\n",
    "    \n",
    "    itms = [yr for yr, ct in tup_lst]\n",
    "    mis_year = set(years) - set(itms)\n",
    "    \n",
    "    for yr in mis_year:\n",
    "        tup_lst.append((yr, 0))\n",
    "        \n",
    "    return tup_lst"
   ]
  },
  {
   "cell_type": "code",
   "execution_count": 68,
   "metadata": {},
   "outputs": [],
   "source": [
    "def tri_tup_dict():\n",
    "    temp = {}\n",
    "\n",
    "    for i, genre in enumerate(df_count['Genre_Single'].unique().tolist()):\n",
    "        _genre_df = df[df['Genre_Single'] == genre]\n",
    "        _value_counts = _genre_df['Year'].value_counts()\n",
    "        gen = _value_counts.to_dict()\n",
    "        gen = sorted(gen.items())\n",
    "\n",
    "        # fill in years with zero counts\n",
    "        fill_missing_year(gen)\n",
    "\n",
    "        # create triple tuple of genre, year, count\n",
    "        years = [yr for yr, ct in gen]\n",
    "        counts = [ct for yr, ct in gen]\n",
    "        genres = [genre] * len(gen)\n",
    "        tri_tup = zip(genres, years, counts)\n",
    "\n",
    "        # create dictionary keyed on genre and year with genre counts as value\n",
    "        for tup in tri_tup:\n",
    "            temp[(tup[0], tup[1])] = tup[2]\n",
    "    \n",
    "    return temp"
   ]
  },
  {
   "cell_type": "code",
   "execution_count": 69,
   "metadata": {},
   "outputs": [],
   "source": [
    "def percentage_dict(tri_dict):\n",
    "    years = [y for y in range(df['Year'].min(), df['Year'].max()+1)]\n",
    "    \n",
    "    # by year so that year stack adds up to 100%\n",
    "    for year in years:\n",
    "        temp = {}\n",
    "\n",
    "        # get subset (year) dictionary\n",
    "        for key,ct in tri_dict.items():\n",
    "            if year in key:\n",
    "                temp[key] = ct\n",
    "\n",
    "        # get total for year subset\n",
    "        total = sum(temp.values())\n",
    "\n",
    "        # put percentages back into main dictionary\n",
    "        for key,ct in temp.items():\n",
    "            tri_dict[key] = ct/total*100\n",
    "    \n",
    "    return tri_dict"
   ]
  },
  {
   "cell_type": "code",
   "execution_count": 70,
   "metadata": {},
   "outputs": [],
   "source": [
    "def normalized_check(_dict):\n",
    "    years = [y for y in range(df['Year'].min(), df['Year'].max()+1)]\n",
    "    \n",
    "    for year in years:\n",
    "        temp = []\n",
    "        for key,ct in _dict.items():\n",
    "            if year in key:\n",
    "                temp.append(ct)\n",
    "        print('For {0} the total is: {1}'.format(year, sum(temp)))"
   ]
  },
  {
   "cell_type": "code",
   "execution_count": 71,
   "metadata": {},
   "outputs": [],
   "source": [
    "# normalized_check(percentage_dict(tri_tup_dict()))"
   ]
  },
  {
   "cell_type": "code",
   "execution_count": 72,
   "metadata": {},
   "outputs": [],
   "source": [
    "def make_filled_line_trace(x_years, y_counts, name_genre, color):\n",
    "    trace = go.Scatter(\n",
    "        x = x_years, \n",
    "        y = y_counts, \n",
    "        name = name_genre,\n",
    "        mode = 'lines',\n",
    "        line = dict(width=0.5,\n",
    "                   color = color),\n",
    "        fill = 'tonexty')\n",
    "    return trace"
   ]
  },
  {
   "cell_type": "code",
   "execution_count": 73,
   "metadata": {},
   "outputs": [],
   "source": [
    "ord_lst = ['Crime', 'Adventure', 'Thriller', 'Horror', 'Action', 'Comedy', 'Drama']\n",
    "\n",
    "new_dict = {}\n",
    "ttl = np.array(0)\n",
    "for _gen in ord_lst:\n",
    "    temp = []\n",
    "    for tup in sorted(percentage_dict(tri_tup_dict()).items()):\n",
    "        if _gen in tup[0]:\n",
    "            temp.append(tup[1])\n",
    "    ttl = ttl + temp\n",
    "    new_dict[_gen] = ttl"
   ]
  },
  {
   "cell_type": "code",
   "execution_count": 74,
   "metadata": {},
   "outputs": [],
   "source": [
    "traces = []\n",
    "ord_lst = ['Crime', 'Adventure', 'Thriller', 'Horror', 'Action', 'Comedy', 'Drama']\n",
    "years = [y for y in range(df['Year'].min(), df['Year'].max()+1)]\n",
    "\n",
    "for i, genre in enumerate(ord_lst):\n",
    "    yr_lst = years\n",
    "    ct_lst = new_dict[genre].tolist()\n",
    "\n",
    "    traces.append(make_filled_line_trace(yr_lst, ct_lst, genre, colors_lst[i]))"
   ]
  },
  {
   "cell_type": "code",
   "execution_count": 75,
   "metadata": {
    "scrolled": false
   },
   "outputs": [
    {
     "data": {
      "text/html": [
       "<iframe id=\"igraph\" scrolling=\"no\" style=\"border:none;\" seamless=\"seamless\" src=\"https://plot.ly/~bbiggs/205.embed\" height=\"600px\" width=\"1000px\"></iframe>"
      ],
      "text/plain": [
       "<plotly.tools.PlotlyDisplay object>"
      ]
     },
     "execution_count": 75,
     "metadata": {},
     "output_type": "execute_result"
    }
   ],
   "source": [
    "data = traces\n",
    "\n",
    "layout = go.Layout(\n",
    "    title='Normalized Genres Annually ({0}-{1})'.format(yr_start, yr_stop),\n",
    "    showlegend=True,\n",
    "    autosize=False,\n",
    "    width=1000,\n",
    "    height=600,\n",
    "    margin=go.Margin(\n",
    "        l=60,\n",
    "        r=40,\n",
    "        b=100,\n",
    "        t=100,\n",
    "        pad=4\n",
    "    ),\n",
    "    xaxis=dict(\n",
    "        title='Year',\n",
    "        tickfont=dict(\n",
    "        size=14,\n",
    "        color='rgb(107,107,107)'),\n",
    "        type='category',\n",
    "        dtick=2\n",
    "    ),\n",
    "    yaxis=dict(\n",
    "        title='Normalized Film Count % (Accumulative)',\n",
    "        titlefont=dict(\n",
    "        size=16,\n",
    "        color='rgb(107,107,107)'),\n",
    "        tickfont=dict(\n",
    "        size=14,\n",
    "        color='rgb(107,107,107)'),\n",
    "        type='linear',\n",
    "        range=[1, 100],\n",
    "        dtick=20,\n",
    "        ticksuffix='%'\n",
    "    )\n",
    ")\n",
    "fig = go.Figure(data=data, layout=layout)\n",
    "py.iplot(fig, filename='stacked-area-plot')"
   ]
  },
  {
   "cell_type": "markdown",
   "metadata": {},
   "source": [
    "# Remove Films Not Rated - PG-13, PG, G, or R"
   ]
  },
  {
   "cell_type": "code",
   "execution_count": 76,
   "metadata": {},
   "outputs": [
    {
     "name": "stdout",
     "output_type": "stream",
     "text": [
      "306 entries lost (0.03%) due to limiting to only PG-13, PG, G, R ratings\n"
     ]
    }
   ],
   "source": [
    "len_before = len(df)\n",
    "\n",
    "ratings = ['PG-13', 'PG', 'G', 'R']\n",
    "df = df.loc[df['Rated'].isin(ratings)]\n",
    "\n",
    "len_after = len(df)\n",
    "\n",
    "print('{0} entries lost ({1}%) due to limiting to only {2} ratings'.format(len_before-len_after, \n",
    "                                                round((len_before-len_after)/len_before *100, 2), ', '.join(ratings)))"
   ]
  },
  {
   "cell_type": "code",
   "execution_count": 83,
   "metadata": {},
   "outputs": [],
   "source": [
    "from patsy import dmatrices\n",
    "patsy_formula = 'Total_Torrents ~ ProductionBudget + Year + Month + Runtime + Genre_Single'\n",
    "y, x = dmatrices(patsy_formula, data=df, return_type='dataframe')"
   ]
  },
  {
   "cell_type": "code",
   "execution_count": 84,
   "metadata": {},
   "outputs": [
    {
     "name": "stderr",
     "output_type": "stream",
     "text": [
      "/Users/bryant/anaconda/lib/python3.6/site-packages/statsmodels/compat/pandas.py:56: FutureWarning:\n",
      "\n",
      "The pandas.core.datetools module is deprecated and will be removed in a future version. Please use the pandas.tseries module instead.\n",
      "\n"
     ]
    },
    {
     "data": {
      "text/html": [
       "<table class=\"simpletable\">\n",
       "<caption>OLS Regression Results</caption>\n",
       "<tr>\n",
       "  <th>Dep. Variable:</th>     <td>Total_Torrents</td>  <th>  R-squared:         </th> <td>   0.021</td> \n",
       "</tr>\n",
       "<tr>\n",
       "  <th>Model:</th>                   <td>OLS</td>       <th>  Adj. R-squared:    </th> <td>   0.015</td> \n",
       "</tr>\n",
       "<tr>\n",
       "  <th>Method:</th>             <td>Least Squares</td>  <th>  F-statistic:       </th> <td>   3.282</td> \n",
       "</tr>\n",
       "<tr>\n",
       "  <th>Date:</th>             <td>Tue, 19 Sep 2017</td> <th>  Prob (F-statistic):</th> <td>2.08e-07</td> \n",
       "</tr>\n",
       "<tr>\n",
       "  <th>Time:</th>                 <td>16:07:41</td>     <th>  Log-Likelihood:    </th> <td> -30308.</td> \n",
       "</tr>\n",
       "<tr>\n",
       "  <th>No. Observations:</th>      <td>  3499</td>      <th>  AIC:               </th> <td>6.066e+04</td>\n",
       "</tr>\n",
       "<tr>\n",
       "  <th>Df Residuals:</th>          <td>  3475</td>      <th>  BIC:               </th> <td>6.081e+04</td>\n",
       "</tr>\n",
       "<tr>\n",
       "  <th>Df Model:</th>              <td>    23</td>      <th>                     </th>     <td> </td>    \n",
       "</tr>\n",
       "<tr>\n",
       "  <th>Covariance Type:</th>      <td>nonrobust</td>    <th>                     </th>     <td> </td>    \n",
       "</tr>\n",
       "</table>\n",
       "<table class=\"simpletable\">\n",
       "<tr>\n",
       "               <td></td>                  <th>coef</th>     <th>std err</th>      <th>t</th>      <th>P>|t|</th>  <th>[0.025</th>    <th>0.975]</th>  \n",
       "</tr>\n",
       "<tr>\n",
       "  <th>Intercept</th>                   <td>-1.529e+04</td> <td> 5297.081</td> <td>   -2.886</td> <td> 0.004</td> <td>-2.57e+04</td> <td>-4901.242</td>\n",
       "</tr>\n",
       "<tr>\n",
       "  <th>Genre_Single[T.Adventure]</th>   <td> -124.9848</td> <td>  177.203</td> <td>   -0.705</td> <td> 0.481</td> <td> -472.418</td> <td>  222.449</td>\n",
       "</tr>\n",
       "<tr>\n",
       "  <th>Genre_Single[T.Animation]</th>   <td> -325.8469</td> <td>  995.677</td> <td>   -0.327</td> <td> 0.743</td> <td>-2278.019</td> <td> 1626.325</td>\n",
       "</tr>\n",
       "<tr>\n",
       "  <th>Genre_Single[T.Biography]</th>   <td>  -86.7900</td> <td>  814.236</td> <td>   -0.107</td> <td> 0.915</td> <td>-1683.218</td> <td> 1509.638</td>\n",
       "</tr>\n",
       "<tr>\n",
       "  <th>Genre_Single[T.Comedy]</th>      <td>   -1.7258</td> <td>   81.731</td> <td>   -0.021</td> <td> 0.983</td> <td> -161.971</td> <td>  158.520</td>\n",
       "</tr>\n",
       "<tr>\n",
       "  <th>Genre_Single[T.Crime]</th>       <td> -140.1793</td> <td>  237.757</td> <td>   -0.590</td> <td> 0.556</td> <td> -606.337</td> <td>  325.979</td>\n",
       "</tr>\n",
       "<tr>\n",
       "  <th>Genre_Single[T.Documentary]</th> <td>  577.0270</td> <td>  397.604</td> <td>    1.451</td> <td> 0.147</td> <td> -202.534</td> <td> 1356.588</td>\n",
       "</tr>\n",
       "<tr>\n",
       "  <th>Genre_Single[T.Drama]</th>       <td> -124.2358</td> <td>   79.136</td> <td>   -1.570</td> <td> 0.117</td> <td> -279.394</td> <td>   30.923</td>\n",
       "</tr>\n",
       "<tr>\n",
       "  <th>Genre_Single[T.Family]</th>      <td> -311.0167</td> <td>  995.660</td> <td>   -0.312</td> <td> 0.755</td> <td>-2263.154</td> <td> 1641.121</td>\n",
       "</tr>\n",
       "<tr>\n",
       "  <th>Genre_Single[T.Fantasy]</th>     <td>  -90.4315</td> <td>  578.317</td> <td>   -0.156</td> <td> 0.876</td> <td>-1224.306</td> <td> 1043.443</td>\n",
       "</tr>\n",
       "<tr>\n",
       "  <th>Genre_Single[T.History]</th>     <td> -268.3950</td> <td>  995.633</td> <td>   -0.270</td> <td> 0.788</td> <td>-2220.479</td> <td> 1683.689</td>\n",
       "</tr>\n",
       "<tr>\n",
       "  <th>Genre_Single[T.Horror]</th>      <td>  -46.7695</td> <td>  167.960</td> <td>   -0.278</td> <td> 0.781</td> <td> -376.080</td> <td>  282.541</td>\n",
       "</tr>\n",
       "<tr>\n",
       "  <th>Genre_Single[T.Music]</th>       <td> -191.0692</td> <td>  474.178</td> <td>   -0.403</td> <td> 0.687</td> <td>-1120.765</td> <td>  738.627</td>\n",
       "</tr>\n",
       "<tr>\n",
       "  <th>Genre_Single[T.Musical]</th>     <td> -333.0652</td> <td> 1405.640</td> <td>   -0.237</td> <td> 0.813</td> <td>-3089.029</td> <td> 2422.899</td>\n",
       "</tr>\n",
       "<tr>\n",
       "  <th>Genre_Single[T.Mystery]</th>     <td>   81.5917</td> <td> 1406.814</td> <td>    0.058</td> <td> 0.954</td> <td>-2676.673</td> <td> 2839.857</td>\n",
       "</tr>\n",
       "<tr>\n",
       "  <th>Genre_Single[T.Romance]</th>     <td> -142.0503</td> <td>  411.427</td> <td>   -0.345</td> <td> 0.730</td> <td> -948.714</td> <td>  664.613</td>\n",
       "</tr>\n",
       "<tr>\n",
       "  <th>Genre_Single[T.Sci-Fi]</th>      <td>   35.3654</td> <td>  996.250</td> <td>    0.035</td> <td> 0.972</td> <td>-1917.930</td> <td> 1988.661</td>\n",
       "</tr>\n",
       "<tr>\n",
       "  <th>Genre_Single[T.Sport]</th>       <td> -260.6294</td> <td>  995.444</td> <td>   -0.262</td> <td> 0.793</td> <td>-2212.343</td> <td> 1691.084</td>\n",
       "</tr>\n",
       "<tr>\n",
       "  <th>Genre_Single[T.Thriller]</th>    <td>  -35.1654</td> <td>  142.373</td> <td>   -0.247</td> <td> 0.805</td> <td> -314.308</td> <td>  243.977</td>\n",
       "</tr>\n",
       "<tr>\n",
       "  <th>Genre_Single[T.Western]</th>     <td> -141.9018</td> <td>  813.840</td> <td>   -0.174</td> <td> 0.862</td> <td>-1737.555</td> <td> 1453.751</td>\n",
       "</tr>\n",
       "<tr>\n",
       "  <th>ProductionBudget</th>            <td> 3.547e-06</td> <td> 6.96e-07</td> <td>    5.097</td> <td> 0.000</td> <td> 2.18e-06</td> <td> 4.91e-06</td>\n",
       "</tr>\n",
       "<tr>\n",
       "  <th>Year</th>                        <td>    7.7225</td> <td>    2.628</td> <td>    2.939</td> <td> 0.003</td> <td>    2.571</td> <td>   12.874</td>\n",
       "</tr>\n",
       "<tr>\n",
       "  <th>Month</th>                       <td>   -2.5716</td> <td>    6.927</td> <td>   -0.371</td> <td> 0.710</td> <td>  -16.154</td> <td>   11.010</td>\n",
       "</tr>\n",
       "<tr>\n",
       "  <th>Runtime</th>                     <td>    1.1146</td> <td>    1.401</td> <td>    0.796</td> <td> 0.426</td> <td>   -1.632</td> <td>    3.861</td>\n",
       "</tr>\n",
       "</table>\n",
       "<table class=\"simpletable\">\n",
       "<tr>\n",
       "  <th>Omnibus:</th>       <td>9272.558</td> <th>  Durbin-Watson:     </th>   <td>   2.006</td>   \n",
       "</tr>\n",
       "<tr>\n",
       "  <th>Prob(Omnibus):</th>  <td> 0.000</td>  <th>  Jarque-Bera (JB):  </th> <td>203131926.646</td>\n",
       "</tr>\n",
       "<tr>\n",
       "  <th>Skew:</th>           <td>31.014</td>  <th>  Prob(JB):          </th>   <td>    0.00</td>   \n",
       "</tr>\n",
       "<tr>\n",
       "  <th>Kurtosis:</th>      <td>1181.752</td> <th>  Cond. No.          </th>   <td>1.26e+10</td>   \n",
       "</tr>\n",
       "</table>"
      ],
      "text/plain": [
       "<class 'statsmodels.iolib.summary.Summary'>\n",
       "\"\"\"\n",
       "                            OLS Regression Results                            \n",
       "==============================================================================\n",
       "Dep. Variable:         Total_Torrents   R-squared:                       0.021\n",
       "Model:                            OLS   Adj. R-squared:                  0.015\n",
       "Method:                 Least Squares   F-statistic:                     3.282\n",
       "Date:                Tue, 19 Sep 2017   Prob (F-statistic):           2.08e-07\n",
       "Time:                        16:07:41   Log-Likelihood:                -30308.\n",
       "No. Observations:                3499   AIC:                         6.066e+04\n",
       "Df Residuals:                    3475   BIC:                         6.081e+04\n",
       "Df Model:                          23                                         \n",
       "Covariance Type:            nonrobust                                         \n",
       "===============================================================================================\n",
       "                                  coef    std err          t      P>|t|      [0.025      0.975]\n",
       "-----------------------------------------------------------------------------------------------\n",
       "Intercept                   -1.529e+04   5297.081     -2.886      0.004   -2.57e+04   -4901.242\n",
       "Genre_Single[T.Adventure]    -124.9848    177.203     -0.705      0.481    -472.418     222.449\n",
       "Genre_Single[T.Animation]    -325.8469    995.677     -0.327      0.743   -2278.019    1626.325\n",
       "Genre_Single[T.Biography]     -86.7900    814.236     -0.107      0.915   -1683.218    1509.638\n",
       "Genre_Single[T.Comedy]         -1.7258     81.731     -0.021      0.983    -161.971     158.520\n",
       "Genre_Single[T.Crime]        -140.1793    237.757     -0.590      0.556    -606.337     325.979\n",
       "Genre_Single[T.Documentary]   577.0270    397.604      1.451      0.147    -202.534    1356.588\n",
       "Genre_Single[T.Drama]        -124.2358     79.136     -1.570      0.117    -279.394      30.923\n",
       "Genre_Single[T.Family]       -311.0167    995.660     -0.312      0.755   -2263.154    1641.121\n",
       "Genre_Single[T.Fantasy]       -90.4315    578.317     -0.156      0.876   -1224.306    1043.443\n",
       "Genre_Single[T.History]      -268.3950    995.633     -0.270      0.788   -2220.479    1683.689\n",
       "Genre_Single[T.Horror]        -46.7695    167.960     -0.278      0.781    -376.080     282.541\n",
       "Genre_Single[T.Music]        -191.0692    474.178     -0.403      0.687   -1120.765     738.627\n",
       "Genre_Single[T.Musical]      -333.0652   1405.640     -0.237      0.813   -3089.029    2422.899\n",
       "Genre_Single[T.Mystery]        81.5917   1406.814      0.058      0.954   -2676.673    2839.857\n",
       "Genre_Single[T.Romance]      -142.0503    411.427     -0.345      0.730    -948.714     664.613\n",
       "Genre_Single[T.Sci-Fi]         35.3654    996.250      0.035      0.972   -1917.930    1988.661\n",
       "Genre_Single[T.Sport]        -260.6294    995.444     -0.262      0.793   -2212.343    1691.084\n",
       "Genre_Single[T.Thriller]      -35.1654    142.373     -0.247      0.805    -314.308     243.977\n",
       "Genre_Single[T.Western]      -141.9018    813.840     -0.174      0.862   -1737.555    1453.751\n",
       "ProductionBudget             3.547e-06   6.96e-07      5.097      0.000    2.18e-06    4.91e-06\n",
       "Year                            7.7225      2.628      2.939      0.003       2.571      12.874\n",
       "Month                          -2.5716      6.927     -0.371      0.710     -16.154      11.010\n",
       "Runtime                         1.1146      1.401      0.796      0.426      -1.632       3.861\n",
       "==============================================================================\n",
       "Omnibus:                     9272.558   Durbin-Watson:                   2.006\n",
       "Prob(Omnibus):                  0.000   Jarque-Bera (JB):        203131926.646\n",
       "Skew:                          31.014   Prob(JB):                         0.00\n",
       "Kurtosis:                    1181.752   Cond. No.                     1.26e+10\n",
       "==============================================================================\n",
       "\n",
       "Warnings:\n",
       "[1] Standard Errors assume that the covariance matrix of the errors is correctly specified.\n",
       "[2] The condition number is large, 1.26e+10. This might indicate that there are\n",
       "strong multicollinearity or other numerical problems.\n",
       "\"\"\""
      ]
     },
     "execution_count": 84,
     "metadata": {},
     "output_type": "execute_result"
    }
   ],
   "source": [
    "import statsmodels.api as sm\n",
    "model = sm.OLS(y, x)\n",
    "results = model.fit()\n",
    "results.summary()"
   ]
  },
  {
   "cell_type": "code",
   "execution_count": 90,
   "metadata": {},
   "outputs": [
    {
     "data": {
      "text/plain": [
       "0.021260526233010221"
      ]
     },
     "execution_count": 90,
     "metadata": {},
     "output_type": "execute_result"
    }
   ],
   "source": [
    "from sklearn.linear_model import LinearRegression\n",
    "model = LinearRegression()\n",
    "model.fit(x, y)\n",
    "mod_lr_score = model.score(x, y)\n",
    "mod_lr_coef = model.coef_\n",
    "mod_lr_score"
   ]
  },
  {
   "cell_type": "code",
   "execution_count": 91,
   "metadata": {},
   "outputs": [
    {
     "name": "stderr",
     "output_type": "stream",
     "text": [
      "/Users/bryant/anaconda/lib/python3.6/site-packages/sklearn/cross_validation.py:41: DeprecationWarning:\n",
      "\n",
      "This module was deprecated in version 0.18 in favor of the model_selection module into which all the refactored classes and functions are moved. Also note that the interface of the new CV iterators are different from that of this module. This module will be removed in 0.20.\n",
      "\n"
     ]
    }
   ],
   "source": [
    "from sklearn import cross_validation as cv\n",
    "from sklearn import metrics\n",
    "\n",
    "x_train, x_test, y_train, y_test = cv.train_test_split(x,y,test_size=0.20,random_state=1234)\n",
    "\n",
    "model = LinearRegression().fit(x_train, y_train)\n",
    "\n",
    "# store results\n",
    "mean_sq_err = metrics.mean_squared_error(y_train,model.predict(x_train))\n",
    "cv_mod_score = model.score(x_train, y_train)"
   ]
  },
  {
   "cell_type": "code",
   "execution_count": 94,
   "metadata": {},
   "outputs": [],
   "source": [
    "# reset x, y otherwise errors occur\n",
    "y, x = dmatrices(patsy_formula, data=df, return_type='dataframe')\n",
    "\n",
    "from sklearn.cross_validation import KFold\n",
    "kf = KFold(len(df), n_folds=10, shuffle=True)\n",
    "\n",
    "for train_index, test_index in kf:\n",
    "    x_train, x_test = x.iloc[train_index], x.iloc[test_index]\n",
    "    y_train, y_test = y.iloc[train_index], y.iloc[test_index]\n",
    "    clf2 = LinearRegression().fit(x.iloc[train_index], y.iloc[train_index])\n",
    "\n",
    "# store results\n",
    "mean_sq_errKf = metrics.mean_squared_error(y_train,model.predict(x_train))\n",
    "cvKf_mod_score = clf2.score(x,y)"
   ]
  },
  {
   "cell_type": "code",
   "execution_count": 95,
   "metadata": {},
   "outputs": [
    {
     "name": "stdout",
     "output_type": "stream",
     "text": [
      "Model Linear Regression Score = 0.02126052623301022\n",
      "            Mean Square Error = 2040304.0674375007\n",
      " Cross Validation Model Score = 0.020571788946668668\n",
      "     Mean Squred Error K-Fold = 2089663.6995366786\n",
      "Cross Val. K-Fold Model Score = 0.021048862033185012\n"
     ]
    }
   ],
   "source": [
    "#NORMAL RESULTS\n",
    "print('Model Linear Regression Score = {0}'.format(mod_lr_score))\n",
    "print('            Mean Square Error = {0}'.format(mean_sq_err))\n",
    "print(' Cross Validation Model Score = {0}'.format(cv_mod_score))\n",
    "print('     Mean Squred Error K-Fold = {0}'.format(mean_sq_errKf))\n",
    "print('Cross Val. K-Fold Model Score = {0}'.format(cvKf_mod_score))"
   ]
  },
  {
   "cell_type": "code",
   "execution_count": 103,
   "metadata": {},
   "outputs": [
    {
     "data": {
      "image/png": "[encoded data removed]",
      "text/plain": [
       "<matplotlib.figure.Figure at 0x12349c438>"
      ]
     },
     "metadata": {},
     "output_type": "display_data"
    }
   ],
   "source": [
    "% matplotlib inline\n",
    "from matplotlib import pyplot as plt\n",
    "fig = plt.figure(figsize=(12,8))\n",
    "fig = sm.graphics.plot_regress_exog(results,'ProductionBudget', fig=fig)"
   ]
  },
  {
   "cell_type": "markdown",
   "metadata": {},
   "source": [
    "---\n",
    "# Log Transform"
   ]
  },
  {
   "cell_type": "code",
   "execution_count": 104,
   "metadata": {},
   "outputs": [
    {
     "data": {
      "text/plain": [
       "Index(['Actors', 'Awards', 'BoxOffice', 'Country', 'DVD', 'Director', 'Genre',\n",
       "       'Language', 'Metascore', 'Production', 'Rated', 'Released', 'Runtime',\n",
       "       'Title', 'Type', 'Writer', 'imdbID', 'imdbRating', 'imdbVotes',\n",
       "       'Kat_Count', 'Pirate_Count', 'Extra_Count', 'Torrentz_Count',\n",
       "       'Torrentz_Ver_Count', 'Zoogle_Ver_Count', 'ProductionBudget',\n",
       "       'DomesticBudget', 'WorldGross', 'Total_Torrents', 'Year', 'Month',\n",
       "       'Genre_Single'],\n",
       "      dtype='object')"
      ]
     },
     "execution_count": 104,
     "metadata": {},
     "output_type": "execute_result"
    }
   ],
   "source": [
    "df.columns"
   ]
  },
  {
   "cell_type": "code",
   "execution_count": 106,
   "metadata": {
    "scrolled": false
   },
   "outputs": [
    {
     "name": "stderr",
     "output_type": "stream",
     "text": [
      "/Users/bryant/anaconda/lib/python3.6/site-packages/ipykernel/__main__.py:4: RuntimeWarning:\n",
      "\n",
      "divide by zero encountered in log\n",
      "\n",
      "/Users/bryant/anaconda/lib/python3.6/site-packages/ipykernel/__main__.py:8: FutureWarning:\n",
      "\n",
      "'pandas.tools.plotting.scatter_matrix' is deprecated, import 'pandas.plotting.scatter_matrix' instead.\n",
      "\n"
     ]
    },
    {
     "ename": "ValueError",
     "evalue": "range parameter must be finite.",
     "output_type": "error",
     "traceback": [
      "\u001b[0;31m---------------------------------------------------------------------------\u001b[0m",
      "\u001b[0;31mValueError\u001b[0m                                Traceback (most recent call last)",
      "\u001b[0;32m<ipython-input-106-1c17164d9e39>\u001b[0m in \u001b[0;36m<module>\u001b[0;34m()\u001b[0m\n\u001b[1;32m      6\u001b[0m \u001b[0mtrans\u001b[0m \u001b[0;34m=\u001b[0m \u001b[0mdf\u001b[0m\u001b[0;34m[\u001b[0m\u001b[0;34m[\u001b[0m\u001b[0;34m'log_budg'\u001b[0m\u001b[0;34m,\u001b[0m \u001b[0;34m'Year'\u001b[0m\u001b[0;34m,\u001b[0m \u001b[0;34m'log_tor'\u001b[0m\u001b[0;34m]\u001b[0m\u001b[0;34m]\u001b[0m\u001b[0;34m\u001b[0m\u001b[0m\n\u001b[1;32m      7\u001b[0m \u001b[0mplt\u001b[0m\u001b[0;34m.\u001b[0m\u001b[0mrcParams\u001b[0m\u001b[0;34m[\u001b[0m\u001b[0;34m'figure.figsize'\u001b[0m\u001b[0;34m]\u001b[0m \u001b[0;34m=\u001b[0m \u001b[0;34m(\u001b[0m\u001b[0;36m15\u001b[0m\u001b[0;34m,\u001b[0m \u001b[0;36m15\u001b[0m\u001b[0;34m)\u001b[0m\u001b[0;34m\u001b[0m\u001b[0m\n\u001b[0;32m----> 8\u001b[0;31m \u001b[0mpd\u001b[0m\u001b[0;34m.\u001b[0m\u001b[0mtools\u001b[0m\u001b[0;34m.\u001b[0m\u001b[0mplotting\u001b[0m\u001b[0;34m.\u001b[0m\u001b[0mscatter_matrix\u001b[0m\u001b[0;34m(\u001b[0m\u001b[0mtrans\u001b[0m\u001b[0;34m)\u001b[0m\u001b[0;34m\u001b[0m\u001b[0m\n\u001b[0m",
      "\u001b[0;32m~/anaconda/lib/python3.6/site-packages/pandas/tools/plotting.py\u001b[0m in \u001b[0;36mwrapper\u001b[0;34m(*args, **kwargs)\u001b[0m\n\u001b[1;32m     15\u001b[0m                           \u001b[0;34m\"import 'pandas.plotting.{t}' instead.\"\u001b[0m\u001b[0;34m.\u001b[0m\u001b[0mformat\u001b[0m\u001b[0;34m(\u001b[0m\u001b[0mt\u001b[0m\u001b[0;34m=\u001b[0m\u001b[0mt\u001b[0m\u001b[0;34m)\u001b[0m\u001b[0;34m,\u001b[0m\u001b[0;34m\u001b[0m\u001b[0m\n\u001b[1;32m     16\u001b[0m                           FutureWarning, stacklevel=2)\n\u001b[0;32m---> 17\u001b[0;31m             \u001b[0;32mreturn\u001b[0m \u001b[0mgetattr\u001b[0m\u001b[0;34m(\u001b[0m\u001b[0m_plotting\u001b[0m\u001b[0;34m,\u001b[0m \u001b[0mt\u001b[0m\u001b[0;34m)\u001b[0m\u001b[0;34m(\u001b[0m\u001b[0;34m*\u001b[0m\u001b[0margs\u001b[0m\u001b[0;34m,\u001b[0m \u001b[0;34m**\u001b[0m\u001b[0mkwargs\u001b[0m\u001b[0;34m)\u001b[0m\u001b[0;34m\u001b[0m\u001b[0m\n\u001b[0m\u001b[1;32m     18\u001b[0m         \u001b[0;32mreturn\u001b[0m \u001b[0mwrapper\u001b[0m\u001b[0;34m\u001b[0m\u001b[0m\n\u001b[1;32m     19\u001b[0m \u001b[0;34m\u001b[0m\u001b[0m\n",
      "\u001b[0;32m~/anaconda/lib/python3.6/site-packages/pandas/plotting/_misc.py\u001b[0m in \u001b[0;36mscatter_matrix\u001b[0;34m(frame, alpha, figsize, ax, grid, diagonal, marker, density_kwds, hist_kwds, range_padding, **kwds)\u001b[0m\n\u001b[1;32m     89\u001b[0m                 \u001b[0;31m# Deal with the diagonal by drawing a histogram there.\u001b[0m\u001b[0;34m\u001b[0m\u001b[0;34m\u001b[0m\u001b[0m\n\u001b[1;32m     90\u001b[0m                 \u001b[0;32mif\u001b[0m \u001b[0mdiagonal\u001b[0m \u001b[0;34m==\u001b[0m \u001b[0;34m'hist'\u001b[0m\u001b[0;34m:\u001b[0m\u001b[0;34m\u001b[0m\u001b[0m\n\u001b[0;32m---> 91\u001b[0;31m                     \u001b[0max\u001b[0m\u001b[0;34m.\u001b[0m\u001b[0mhist\u001b[0m\u001b[0;34m(\u001b[0m\u001b[0mvalues\u001b[0m\u001b[0;34m,\u001b[0m \u001b[0;34m**\u001b[0m\u001b[0mhist_kwds\u001b[0m\u001b[0;34m)\u001b[0m\u001b[0;34m\u001b[0m\u001b[0m\n\u001b[0m\u001b[1;32m     92\u001b[0m \u001b[0;34m\u001b[0m\u001b[0m\n\u001b[1;32m     93\u001b[0m                 \u001b[0;32melif\u001b[0m \u001b[0mdiagonal\u001b[0m \u001b[0;32min\u001b[0m \u001b[0;34m(\u001b[0m\u001b[0;34m'kde'\u001b[0m\u001b[0;34m,\u001b[0m \u001b[0;34m'density'\u001b[0m\u001b[0;34m)\u001b[0m\u001b[0;34m:\u001b[0m\u001b[0;34m\u001b[0m\u001b[0m\n",
      "\u001b[0;32m~/anaconda/lib/python3.6/site-packages/matplotlib/__init__.py\u001b[0m in \u001b[0;36minner\u001b[0;34m(ax, *args, **kwargs)\u001b[0m\n\u001b[1;32m   1896\u001b[0m                     warnings.warn(msg % (label_namer, func.__name__),\n\u001b[1;32m   1897\u001b[0m                                   RuntimeWarning, stacklevel=2)\n\u001b[0;32m-> 1898\u001b[0;31m             \u001b[0;32mreturn\u001b[0m \u001b[0mfunc\u001b[0m\u001b[0;34m(\u001b[0m\u001b[0max\u001b[0m\u001b[0;34m,\u001b[0m \u001b[0;34m*\u001b[0m\u001b[0margs\u001b[0m\u001b[0;34m,\u001b[0m \u001b[0;34m**\u001b[0m\u001b[0mkwargs\u001b[0m\u001b[0;34m)\u001b[0m\u001b[0;34m\u001b[0m\u001b[0m\n\u001b[0m\u001b[1;32m   1899\u001b[0m         \u001b[0mpre_doc\u001b[0m \u001b[0;34m=\u001b[0m \u001b[0minner\u001b[0m\u001b[0;34m.\u001b[0m\u001b[0m__doc__\u001b[0m\u001b[0;34m\u001b[0m\u001b[0m\n\u001b[1;32m   1900\u001b[0m         \u001b[0;32mif\u001b[0m \u001b[0mpre_doc\u001b[0m \u001b[0;32mis\u001b[0m \u001b[0;32mNone\u001b[0m\u001b[0;34m:\u001b[0m\u001b[0;34m\u001b[0m\u001b[0m\n",
      "\u001b[0;32m~/anaconda/lib/python3.6/site-packages/matplotlib/axes/_axes.py\u001b[0m in \u001b[0;36mhist\u001b[0;34m(***failed resolving arguments***)\u001b[0m\n\u001b[1;32m   6193\u001b[0m             \u001b[0;31m# this will automatically overwrite bins,\u001b[0m\u001b[0;34m\u001b[0m\u001b[0;34m\u001b[0m\u001b[0m\n\u001b[1;32m   6194\u001b[0m             \u001b[0;31m# so that each histogram uses the same bins\u001b[0m\u001b[0;34m\u001b[0m\u001b[0;34m\u001b[0m\u001b[0m\n\u001b[0;32m-> 6195\u001b[0;31m             \u001b[0mm\u001b[0m\u001b[0;34m,\u001b[0m \u001b[0mbins\u001b[0m \u001b[0;34m=\u001b[0m \u001b[0mnp\u001b[0m\u001b[0;34m.\u001b[0m\u001b[0mhistogram\u001b[0m\u001b[0;34m(\u001b[0m\u001b[0mx\u001b[0m\u001b[0;34m[\u001b[0m\u001b[0mi\u001b[0m\u001b[0;34m]\u001b[0m\u001b[0;34m,\u001b[0m \u001b[0mbins\u001b[0m\u001b[0;34m,\u001b[0m \u001b[0mweights\u001b[0m\u001b[0;34m=\u001b[0m\u001b[0mw\u001b[0m\u001b[0;34m[\u001b[0m\u001b[0mi\u001b[0m\u001b[0;34m]\u001b[0m\u001b[0;34m,\u001b[0m \u001b[0;34m**\u001b[0m\u001b[0mhist_kwargs\u001b[0m\u001b[0;34m)\u001b[0m\u001b[0;34m\u001b[0m\u001b[0m\n\u001b[0m\u001b[1;32m   6196\u001b[0m             \u001b[0mm\u001b[0m \u001b[0;34m=\u001b[0m \u001b[0mm\u001b[0m\u001b[0;34m.\u001b[0m\u001b[0mastype\u001b[0m\u001b[0;34m(\u001b[0m\u001b[0mfloat\u001b[0m\u001b[0;34m)\u001b[0m  \u001b[0;31m# causes problems later if it's an int\u001b[0m\u001b[0;34m\u001b[0m\u001b[0m\n\u001b[1;32m   6197\u001b[0m             \u001b[0;32mif\u001b[0m \u001b[0mmlast\u001b[0m \u001b[0;32mis\u001b[0m \u001b[0;32mNone\u001b[0m\u001b[0;34m:\u001b[0m\u001b[0;34m\u001b[0m\u001b[0m\n",
      "\u001b[0;32m~/anaconda/lib/python3.6/site-packages/numpy/lib/function_base.py\u001b[0m in \u001b[0;36mhistogram\u001b[0;34m(a, bins, range, normed, weights, density)\u001b[0m\n\u001b[1;32m    668\u001b[0m     \u001b[0;32mif\u001b[0m \u001b[0;32mnot\u001b[0m \u001b[0mnp\u001b[0m\u001b[0;34m.\u001b[0m\u001b[0mall\u001b[0m\u001b[0;34m(\u001b[0m\u001b[0mnp\u001b[0m\u001b[0;34m.\u001b[0m\u001b[0misfinite\u001b[0m\u001b[0;34m(\u001b[0m\u001b[0;34m[\u001b[0m\u001b[0mmn\u001b[0m\u001b[0;34m,\u001b[0m \u001b[0mmx\u001b[0m\u001b[0;34m]\u001b[0m\u001b[0;34m)\u001b[0m\u001b[0;34m)\u001b[0m\u001b[0;34m:\u001b[0m\u001b[0;34m\u001b[0m\u001b[0m\n\u001b[1;32m    669\u001b[0m         raise ValueError(\n\u001b[0;32m--> 670\u001b[0;31m             'range parameter must be finite.')\n\u001b[0m\u001b[1;32m    671\u001b[0m     \u001b[0;32mif\u001b[0m \u001b[0mmn\u001b[0m \u001b[0;34m==\u001b[0m \u001b[0mmx\u001b[0m\u001b[0;34m:\u001b[0m\u001b[0;34m\u001b[0m\u001b[0m\n\u001b[1;32m    672\u001b[0m         \u001b[0mmn\u001b[0m \u001b[0;34m-=\u001b[0m \u001b[0;36m0.5\u001b[0m\u001b[0;34m\u001b[0m\u001b[0m\n",
      "\u001b[0;31mValueError\u001b[0m: range parameter must be finite."
     ]
    },
    {
     "data": {
      "image/png": "[encoded data removed]",
      "text/plain": [
       "<matplotlib.figure.Figure at 0x11ad45898>"
      ]
     },
     "metadata": {},
     "output_type": "display_data"
    }
   ],
   "source": [
    "df['log_budg']=np.log(df['ProductionBudget'])\n",
    "#df_sub['log_year']=np.log(df_sub.Year)\n",
    "#df_sub['log_run']=np.log(df_sub.Runtime)\n",
    "df['log_tor']=np.log(df['Total_Torrents'])\n",
    "\n",
    "trans = df[['log_budg', 'Year', 'log_tor']]\n",
    "plt.rcParams['figure.figsize'] = (15, 15)\n",
    "pd.tools.plotting.scatter_matrix(trans)"
   ]
  },
  {
   "cell_type": "code",
   "execution_count": 108,
   "metadata": {},
   "outputs": [],
   "source": [
    "log_patsy_formula = 'log_tor ~ log_budg + Year + Month'\n",
    "y, x = dmatrices(log_patsy_formula, data=df, return_type='dataframe')"
   ]
  },
  {
   "cell_type": "code",
   "execution_count": 109,
   "metadata": {},
   "outputs": [
    {
     "name": "stderr",
     "output_type": "stream",
     "text": [
      "/Users/bryant/anaconda/lib/python3.6/site-packages/plotly/tools.py:1422: UserWarning:\n",
      "\n",
      "plotly.tools.FigureFactory.create_scatterplotmatrix is deprecated. Use plotly.figure_factory.create_scatterplotmatrix\n",
      "\n"
     ]
    },
    {
     "data": {
      "text/html": [
       "<iframe id=\"igraph\" scrolling=\"no\" style=\"border:none;\" seamless=\"seamless\" src=\"https://plot.ly/~bbiggs/803.embed\" height=\"800px\" width=\"800px\"></iframe>"
      ],
      "text/plain": [
       "<plotly.tools.PlotlyDisplay object>"
      ]
     },
     "execution_count": 109,
     "metadata": {},
     "output_type": "execute_result"
    }
   ],
   "source": [
    "import plotly.plotly as py\n",
    "from plotly.tools import FigureFactory as FF\n",
    "\n",
    "df_a = df[['log_budg', 'Year', 'Month', 'log_tor']]\n",
    "fig = FF.create_scatterplotmatrix(df_a, diag='histogram', index='Month',\n",
    "                                  height=800, width=800)\n",
    "py.iplot(fig, filename='Histograms along Diagonal Subplots')"
   ]
  },
  {
   "cell_type": "code",
   "execution_count": 110,
   "metadata": {},
   "outputs": [
    {
     "name": "stderr",
     "output_type": "stream",
     "text": [
      "/Users/bryant/anaconda/lib/python3.6/site-packages/statsmodels/regression/linear_model.py:1366: RuntimeWarning:\n",
      "\n",
      "invalid value encountered in subtract\n",
      "\n",
      "/Users/bryant/anaconda/lib/python3.6/site-packages/scipy/stats/_distn_infrastructure.py:879: RuntimeWarning:\n",
      "\n",
      "invalid value encountered in greater\n",
      "\n",
      "/Users/bryant/anaconda/lib/python3.6/site-packages/scipy/stats/_distn_infrastructure.py:879: RuntimeWarning:\n",
      "\n",
      "invalid value encountered in less\n",
      "\n",
      "/Users/bryant/anaconda/lib/python3.6/site-packages/scipy/stats/_distn_infrastructure.py:1818: RuntimeWarning:\n",
      "\n",
      "invalid value encountered in less_equal\n",
      "\n"
     ]
    },
    {
     "data": {
      "text/html": [
       "<table class=\"simpletable\">\n",
       "<caption>OLS Regression Results</caption>\n",
       "<tr>\n",
       "  <th>Dep. Variable:</th>         <td>log_tor</td>     <th>  R-squared:         </th> <td>     nan</td>\n",
       "</tr>\n",
       "<tr>\n",
       "  <th>Model:</th>                   <td>OLS</td>       <th>  Adj. R-squared:    </th> <td>     nan</td>\n",
       "</tr>\n",
       "<tr>\n",
       "  <th>Method:</th>             <td>Least Squares</td>  <th>  F-statistic:       </th> <td>     nan</td>\n",
       "</tr>\n",
       "<tr>\n",
       "  <th>Date:</th>             <td>Tue, 19 Sep 2017</td> <th>  Prob (F-statistic):</th>  <td>   nan</td> \n",
       "</tr>\n",
       "<tr>\n",
       "  <th>Time:</th>                 <td>16:13:07</td>     <th>  Log-Likelihood:    </th> <td>     nan</td>\n",
       "</tr>\n",
       "<tr>\n",
       "  <th>No. Observations:</th>      <td>  3499</td>      <th>  AIC:               </th> <td>     nan</td>\n",
       "</tr>\n",
       "<tr>\n",
       "  <th>Df Residuals:</th>          <td>  3495</td>      <th>  BIC:               </th> <td>     nan</td>\n",
       "</tr>\n",
       "<tr>\n",
       "  <th>Df Model:</th>              <td>     3</td>      <th>                     </th>     <td> </td>   \n",
       "</tr>\n",
       "<tr>\n",
       "  <th>Covariance Type:</th>      <td>nonrobust</td>    <th>                     </th>     <td> </td>   \n",
       "</tr>\n",
       "</table>\n",
       "<table class=\"simpletable\">\n",
       "<tr>\n",
       "      <td></td>         <th>coef</th>     <th>std err</th>      <th>t</th>      <th>P>|t|</th>  <th>[0.025</th>    <th>0.975]</th>  \n",
       "</tr>\n",
       "<tr>\n",
       "  <th>Intercept</th> <td>       nan</td> <td>      nan</td> <td>      nan</td> <td>   nan</td> <td>      nan</td> <td>      nan</td>\n",
       "</tr>\n",
       "<tr>\n",
       "  <th>log_budg</th>  <td>       inf</td> <td>      nan</td> <td>      nan</td> <td>   nan</td> <td>      nan</td> <td>      nan</td>\n",
       "</tr>\n",
       "<tr>\n",
       "  <th>Year</th>      <td>       nan</td> <td>      nan</td> <td>      nan</td> <td>   nan</td> <td>      nan</td> <td>      nan</td>\n",
       "</tr>\n",
       "<tr>\n",
       "  <th>Month</th>     <td>       nan</td> <td>      nan</td> <td>      nan</td> <td>   nan</td> <td>      nan</td> <td>      nan</td>\n",
       "</tr>\n",
       "</table>\n",
       "<table class=\"simpletable\">\n",
       "<tr>\n",
       "  <th>Omnibus:</th>       <td>   nan</td> <th>  Durbin-Watson:     </th> <td>     nan</td>\n",
       "</tr>\n",
       "<tr>\n",
       "  <th>Prob(Omnibus):</th> <td>   nan</td> <th>  Jarque-Bera (JB):  </th> <td>     nan</td>\n",
       "</tr>\n",
       "<tr>\n",
       "  <th>Skew:</th>          <td>   nan</td> <th>  Prob(JB):          </th> <td>     nan</td>\n",
       "</tr>\n",
       "<tr>\n",
       "  <th>Kurtosis:</th>      <td>   nan</td> <th>  Cond. No.          </th> <td>4.11e+05</td>\n",
       "</tr>\n",
       "</table>"
      ],
      "text/plain": [
       "<class 'statsmodels.iolib.summary.Summary'>\n",
       "\"\"\"\n",
       "                            OLS Regression Results                            \n",
       "==============================================================================\n",
       "Dep. Variable:                log_tor   R-squared:                         nan\n",
       "Model:                            OLS   Adj. R-squared:                    nan\n",
       "Method:                 Least Squares   F-statistic:                       nan\n",
       "Date:                Tue, 19 Sep 2017   Prob (F-statistic):                nan\n",
       "Time:                        16:13:07   Log-Likelihood:                    nan\n",
       "No. Observations:                3499   AIC:                               nan\n",
       "Df Residuals:                    3495   BIC:                               nan\n",
       "Df Model:                           3                                         \n",
       "Covariance Type:            nonrobust                                         \n",
       "==============================================================================\n",
       "                 coef    std err          t      P>|t|      [0.025      0.975]\n",
       "------------------------------------------------------------------------------\n",
       "Intercept         nan        nan        nan        nan         nan         nan\n",
       "log_budg          inf        nan        nan        nan         nan         nan\n",
       "Year              nan        nan        nan        nan         nan         nan\n",
       "Month             nan        nan        nan        nan         nan         nan\n",
       "==============================================================================\n",
       "Omnibus:                          nan   Durbin-Watson:                     nan\n",
       "Prob(Omnibus):                    nan   Jarque-Bera (JB):                  nan\n",
       "Skew:                             nan   Prob(JB):                          nan\n",
       "Kurtosis:                         nan   Cond. No.                     4.11e+05\n",
       "==============================================================================\n",
       "\n",
       "Warnings:\n",
       "[1] Standard Errors assume that the covariance matrix of the errors is correctly specified.\n",
       "[2] The condition number is large, 4.11e+05. This might indicate that there are\n",
       "strong multicollinearity or other numerical problems.\n",
       "\"\"\""
      ]
     },
     "execution_count": 110,
     "metadata": {},
     "output_type": "execute_result"
    }
   ],
   "source": [
    "import statsmodels.formula.api as smf\n",
    "results = smf.ols(formula=log_patsy_formula, data=df,).fit()\n",
    "results.summary()"
   ]
  },
  {
   "cell_type": "code",
   "execution_count": null,
   "metadata": {},
   "outputs": [],
   "source": [
    "from sklearn.linear_model import LinearRegression\n",
    "model = LinearRegression()\n",
    "model.fit(x, y)\n",
    "\n",
    "# store results\n",
    "log_mod_lr_score = model.score(x,y)"
   ]
  },
  {
   "cell_type": "code",
   "execution_count": null,
   "metadata": {},
   "outputs": [],
   "source": [
    "from sklearn import cross_validation as cv\n",
    "from sklearn import metrics\n",
    "\n",
    "x_train, x_test, y_train, y_test = cv.train_test_split(x,y,test_size=0.20,random_state=1234)\n",
    "\n",
    "model = LinearRegression().fit(x_train, y_train)\n",
    "\n",
    "# store results\n",
    "log_mean_sq_err = metrics.mean_squared_error(y_train,model.predict(x_train))\n",
    "log_cv_mod_score = model.score(x_train, y_train)"
   ]
  },
  {
   "cell_type": "code",
   "execution_count": null,
   "metadata": {},
   "outputs": [],
   "source": [
    "# reset x, y otherwise errors occur\n",
    "y, x = dmatrices(log_patsy_formula, data=df_sub, return_type='dataframe')\n",
    "\n",
    "from sklearn.cross_validation import KFold\n",
    "kf = KFold(len(df_sub), n_folds=10, shuffle=True)\n",
    "\n",
    "for train_index, test_index in kf:\n",
    "    x_train, x_test = x.iloc[train_index], x.iloc[test_index]\n",
    "    y_train, y_test = y.iloc[train_index], y.iloc[test_index]\n",
    "    clf2 = LinearRegression().fit(x.iloc[train_index], y.iloc[train_index])\n",
    "\n",
    "# store results\n",
    "log_mean_sq_errKf = metrics.mean_squared_error(y_train,model.predict(x_train))\n",
    "log_cvKf_mod_score = clf2.score(x,y)"
   ]
  },
  {
   "cell_type": "code",
   "execution_count": null,
   "metadata": {},
   "outputs": [],
   "source": [
    "#LOG RESULTS\n",
    "print('Log Model Linear Regression Score = {0}'.format(log_mod_lr_score))\n",
    "print('            Log Mean Square Error = {0}'.format(log_mean_sq_err))\n",
    "print(' Log Cross Validation Model Score = {0}'.format(log_cv_mod_score))\n",
    "print('     Log Mean Squred Error K-Fold = {0}'.format(log_mean_sq_errKf))\n",
    "print('Log Cross Val. K-Fold Model Score = {0}'.format(log_cvKf_mod_score))"
   ]
  },
  {
   "cell_type": "code",
   "execution_count": null,
   "metadata": {},
   "outputs": [],
   "source": [
    "df_TEST = pd.read_csv('data/test_data2.csv', encoding='latin-1')\n",
    "\n",
    "df_TEST['log_budg']=np.log(df_TEST.Prod_Budget)\n",
    "df_TEST['log_run']=np.log(df_TEST.Runtime)\n",
    "df_TEST['log_tor']=np.log(df_TEST.Total_Torrents)\n",
    "\n",
    "def split_to_array(ser):\n",
    "    split_array = np.array(ser.strip().replace(',','').split(' '))\n",
    "    return pd.Series(split_array)\n",
    "\n",
    "genres = df_yr.Genre.apply(split_to_array)\n",
    "genres = pd.Series(genres.values.ravel()).dropna()\n",
    "genres = genres.value_counts().sort_values(ascending=False)\n",
    "\n",
    "def convert_frequency(ser, genres=genres):\n",
    "    split_array = np.array(ser.strip().replace(',','').split(' '))\n",
    "    genre = genres.loc[split_array].argmax()\n",
    "    return genre\n",
    "\n",
    "df_TEST['Genre_Single'] = df_TEST.Genre.apply(convert_frequency)\n",
    "\n",
    "log_patsy_formula_test = 'log_tor ~ log_budg + Year + Month + log_run + Genre_Single'\n",
    "y, x = dmatrices(log_patsy_formula_test, data=df_TEST, return_type='dataframe')\n",
    "\n",
    "print(clf2.score(x_test, y_test))\n",
    "print(metrics.mean_squared_error(y_test,model.predict(x_test)))"
   ]
  },
  {
   "cell_type": "code",
   "execution_count": null,
   "metadata": {},
   "outputs": [],
   "source": [
    "_ = plt.plot(y, model.predict(x), 'bo')"
   ]
  },
  {
   "cell_type": "code",
   "execution_count": null,
   "metadata": {},
   "outputs": [],
   "source": [
    "plt.figure(figsize=(25,10))\n",
    "\n",
    "ind = np.arange(len(yr_dict))\n",
    "width = 0.35\n",
    "\n",
    "bar_year = [year for year, count in yr_lst]\n",
    "bar_count = [count for year, count in yr_lst]\n",
    "\n",
    "plt.bar(ind, bar_count, width, color='r')\n",
    "\n",
    "plt.ylabel('Count')\n",
    "plt.xlabel('Year')\n",
    "plt.title('Number of Torrents per Year')\n",
    "plt.xticks(ind + width/2., (bar_year), rotation='vertical')\n",
    "plt.yticks(np.arange(0, 91, 5))\n",
    "\n",
    "plt.show()"
   ]
  },
  {
   "cell_type": "code",
   "execution_count": null,
   "metadata": {
    "collapsed": true
   },
   "outputs": [],
   "source": [
    "#log_tor ~ log_budg + Year + Month + log_run + Genre_Single'"
   ]
  },
  {
   "cell_type": "code",
   "execution_count": null,
   "metadata": {},
   "outputs": [],
   "source": [
    "fig = plt.figure(figsize=(12,8))\n",
    "fig = sm.graphics.plot_regress_exog(results,'log_budg', fig=fig)"
   ]
  },
  {
   "cell_type": "code",
   "execution_count": null,
   "metadata": {},
   "outputs": [],
   "source": [
    "fig = plt.figure(figsize=(12,8))\n",
    "fig = sm.graphics.plot_regress_exog(results,'Year', fig=fig)"
   ]
  },
  {
   "cell_type": "code",
   "execution_count": null,
   "metadata": {},
   "outputs": [],
   "source": [
    "fig = plt.figure(figsize=(12,8))\n",
    "fig = sm.graphics.plot_regress_exog(results,'Month', fig=fig)"
   ]
  },
  {
   "cell_type": "raw",
   "metadata": {},
   "source": [
    "# 1998\n",
    "mask =  (df_yr['Year'] == 1998) & (df_yr['Total_Torrents'] > 100)\n",
    "df_yr = df_yr[~mask]\n",
    "\n",
    "# 1999\n",
    "mask =  (df_yr['Year'] == 1999) & (df_yr['Total_Torrents'] > 200)\n",
    "df_yr = df_yr[~mask]\n",
    "\n",
    "# 2000\n",
    "mask =  (df_yr['Year'] == 2000) & (df_yr['Total_Torrents'] > 200)\n",
    "df_yr = df_yr[~mask]\n",
    "\n",
    "# 2001\n",
    "mask =  (df_yr['Year'] == 2001) & (df_yr['Total_Torrents'] > 300)\n",
    "df_yr = df_yr[~mask]\n",
    "\n",
    "# 2002\n",
    "mask =  (df_yr['Year'] == 2002) & (df_yr['Total_Torrents'] > 300)\n",
    "df_yr = df_yr[~mask]\n",
    "\n",
    "# 2003\n",
    "mask =  (df_yr['Year'] == 2003) & (df_yr['Total_Torrents'] > 300)\n",
    "df_yr = df_yr[~mask]\n",
    "\n",
    "# 2004\n",
    "# 2005\n",
    "mask =  (df_yr['Year'] == 2005) & (df_yr['Total_Torrents'] > 300)\n",
    "df_yr = df_yr[~mask]\n",
    "\n",
    "# 2006\n",
    "mask =  (df_yr['Year'] == 2006) & (df_yr['Total_Torrents'] > 300)\n",
    "df_yr = df_yr[~mask]\n",
    "\n",
    "# 2007\n",
    "mask =  (df_yr['Year'] == 2007) & (df_yr['Total_Torrents'] > 450)\n",
    "df_yr = df_yr[~mask]\n",
    "\n",
    "# 2010\n",
    "mask =  (df_yr['Year'] == 2010) & (df_yr['Total_Torrents'] > 800)\n",
    "df_yr = df_yr[~mask]\n",
    "\n",
    "# 2014\n",
    "mask =  (df_yr['Year'] == 2014) & (df_yr['Total_Torrents'] > 850)\n",
    "df_yr = df_yr[~mask]"
   ]
  },
  {
   "cell_type": "code",
   "execution_count": null,
   "metadata": {},
   "outputs": [],
   "source": []
  },
  {
   "cell_type": "code",
   "execution_count": null,
   "metadata": {
    "collapsed": true
   },
   "outputs": [],
   "source": []
  }
 ],
 "metadata": {
  "anaconda-cloud": {},
  "kernelspec": {
   "display_name": "Python [default]",
   "language": "python",
   "name": "python3"
  },
  "language_info": {
   "codemirror_mode": {
    "name": "ipython",
    "version": 3
   },
   "file_extension": ".py",
   "mimetype": "text/x-python",
   "name": "python",
   "nbconvert_exporter": "python",
   "pygments_lexer": "ipython3",
   "version": "3.6.2"
  }
 },
 "nbformat": 4,
 "nbformat_minor": 1
}
